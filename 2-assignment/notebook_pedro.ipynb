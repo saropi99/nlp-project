{
 "cells": [
  {
   "cell_type": "markdown",
   "id": "c7b84bcd",
   "metadata": {},
   "source": [
    "1. Employ [Hugging Face](https://huggingface.co/models?pipeline_tag=text-classification&sort=trending&search=sentiment) transformers for the same classification task as in the first assignment.\n",
    "\n",
    "2. Explore Hugging Face models to find a pre-trained model that is suitable and promising for fine-tuning to your task. It should make sense to pick one that has been pre-trained for the same language and/or text genre.\n",
    "\n",
    "3. As a bonus, you can also employ a [domain adaptation](https://huggingface.co/learn/llm-course/chapter7/3?fw=pt) approach, explore [parameter-efficient fine-tuning](https://huggingface.co/docs/peft/main/quicktour) (e.g. LoRA), or [prompting language models](https://huggingface.co/docs/transformers/v4.49.0/en/tasks/prompting)."
   ]
  },
  {
   "cell_type": "code",
   "execution_count": null,
   "id": "c2ec1779",
   "metadata": {},
   "outputs": [],
   "source": [
    "import utils\n",
    "from utils import CustomDataset, CustomDataset1\n",
    "import numpy as np\n",
    "import pandas as pd\n",
    "from sklearn.metrics import accuracy_score, f1_score\n",
    "from transformers import AutoTokenizer, AutoModelForSequenceClassification, TrainingArguments, Trainer, pipeline"
   ]
  },
  {
   "cell_type": "code",
   "execution_count": null,
   "id": "493a620a",
   "metadata": {},
   "outputs": [],
   "source": [
    "combined_sentiment_df = pd.read_csv(\"../common/data_sentiment_preprocessed.csv\")\n",
    "combined_sentiment_df_val = pd.read_csv(\"../common/data_sentiment_preprocessed_val.csv\")"
   ]
  },
  {
   "cell_type": "code",
   "execution_count": null,
   "id": "99de155f",
   "metadata": {},
   "outputs": [],
   "source": [
    "x_train = combined_sentiment_df.text\n",
    "y_train = combined_sentiment_df.sentiment_label\n",
    "x_val = combined_sentiment_df_val.text\n",
    "y_val = combined_sentiment_df_val.sentiment_label"
   ]
  },
  {
   "cell_type": "markdown",
   "id": "c92c4d1f",
   "metadata": {},
   "source": [
    "# Applying Pretrained Models"
   ]
  },
  {
   "cell_type": "markdown",
   "id": "aee1c04a",
   "metadata": {},
   "source": [
    "## SIEBERT: Sentiment RoBERTa"
   ]
  },
  {
   "cell_type": "code",
   "execution_count": null,
   "id": "badf0cb8",
   "metadata": {},
   "outputs": [],
   "source": [
    "#https://huggingface.co/siebert/sentiment-roberta-large-english?library=transformers\n",
    "\n",
    "\"\"\"\n",
    "    article: https://www.sciencedirect.com/science/article/pii/S0167811622000477\n",
    "\"\"\"\n",
    "\n",
    "from transformers import pipeline\n",
    "\n",
    "siebert_roberta = pipeline(\"text-classification\", model=\"siebert/sentiment-roberta-large-english\")\n",
    "\n",
    "\n",
    "print(siebert_roberta(\"I love you!\"))\n",
    "print(siebert_roberta(\"I hate you!\"))\n",
    "print(siebert_roberta(\"neutral text\"))\n"
   ]
  },
  {
   "cell_type": "code",
   "execution_count": null,
   "id": "fba1a134",
   "metadata": {},
   "outputs": [],
   "source": [
    "#siebert_roberta\n",
    "mapper = {\n",
    "    \"NEGATIVE\": 0,\n",
    "    \"POSITIVE\": 1\n",
    "} \n",
    "utils.apply_kaggle_model(siebert_roberta, mapper, x_val, y_val)"
   ]
  },
  {
   "cell_type": "markdown",
   "id": "dd217aff",
   "metadata": {},
   "source": [
    "## DistilBERT: IMDb"
   ]
  },
  {
   "cell_type": "code",
   "execution_count": null,
   "id": "8dd505e7",
   "metadata": {},
   "outputs": [],
   "source": [
    "# Use a pipeline as a high-level helper\n",
    "from transformers import pipeline\n",
    "\n",
    "saiffff = pipeline(\"text-classification\", model=\"saiffff/distilbert-imdb-sentiment\")\n",
    "print(saiffff(\"I don't like you!\"))\n",
    "print(saiffff(\"this is really good!\"))\n",
    "print(saiffff(\"neutral text\"))"
   ]
  },
  {
   "cell_type": "code",
   "execution_count": null,
   "id": "863a1186",
   "metadata": {},
   "outputs": [],
   "source": [
    "mapper = {\n",
    "    \"LABEL_0\": 0,\n",
    "    \"LABEL_1\": 1,\n",
    "}\n",
    "utils.apply_kaggle_model(saiffff, mapper, x_val, y_val)"
   ]
  },
  {
   "cell_type": "markdown",
   "id": "08ed0d3b",
   "metadata": {},
   "source": [
    "# Fine-tuning Pre-trained Models"
   ]
  },
  {
   "cell_type": "markdown",
   "id": "680de3f0",
   "metadata": {},
   "source": [
    "## DistilBERT: IMDb"
   ]
  },
  {
   "cell_type": "code",
   "execution_count": null,
   "id": "f5192a86",
   "metadata": {},
   "outputs": [],
   "source": [
    "# https://huggingface.co/saiffff/distilbert-imdb-sentiment\n",
    "saiffff_tokenizer = AutoTokenizer.from_pretrained(\"saiffff/distilbert-imdb-sentiment\")\n",
    "saiffff_model = AutoModelForSequenceClassification.from_pretrained(\"saiffff/distilbert-imdb-sentiment\")\n",
    "\n",
    "num_parameters = saiffff_model.num_parameters() / 1_000_000\n",
    "print(f\"Number of parameters: {num_parameters:.2f}M\")\n",
    "\n",
    "train_encodings = utils.tokenize_data(x_train, saiffff_tokenizer)\n",
    "val_encodings = utils.tokenize_data(x_val, saiffff_tokenizer)"
   ]
  },
  {
   "cell_type": "code",
   "execution_count": null,
   "id": "95fc90bb",
   "metadata": {},
   "outputs": [],
   "source": [
    "train_dataset = CustomDataset(train_encodings, y_train)\n",
    "val_dataset = CustomDataset(val_encodings, y_val)\n",
    "\n",
    "training_args = TrainingArguments(\n",
    "    output_dir=\"./saiffff_results\",\n",
    "    num_train_epochs=3,\n",
    "    per_device_train_batch_size=8,\n",
    "    per_device_eval_batch_size=16,\n",
    "    eval_strategy=\"epoch\",\n",
    "    logging_dir=\"./saiffff_logs\",\n",
    "    learning_rate=2e-5,\n",
    "    weight_decay=0.01,\n",
    ")\n",
    "\n",
    "def compute_metrics(p):\n",
    "    preds = np.argmax(p.predictions, axis=1)\n",
    "    return {\n",
    "        \"accuracy\": accuracy_score(p.label_ids, preds),\n",
    "        \"f1\": f1_score(p.label_ids, preds),\n",
    "    }\n",
    "\n",
    "trainer = Trainer(\n",
    "    model=saiffff_model,\n",
    "    args=training_args,\n",
    "    train_dataset=train_dataset,\n",
    "    eval_dataset=val_dataset,\n",
    "    compute_metrics=compute_metrics,\n",
    ")\n",
    "\n",
    "trainer.train()\n",
    "\n",
    "# Save the model\n",
    "trainer.save_model(\"saiffff_model\")\n",
    "# Save the tokenizer\n",
    "saiffff_tokenizer.save_pretrained(\"saiffff_model\")"
   ]
  },
  {
   "cell_type": "markdown",
   "id": "c7819808",
   "metadata": {},
   "source": [
    "## SIEBERT: Sentiment RoBERTa"
   ]
  },
  {
   "cell_type": "markdown",
   "id": "9a1c9620",
   "metadata": {},
   "source": [
    "This model is too big to efficiently fine tune all parameters. So we are going to use PEFT.\n",
    "\n",
    "EDIT: PEFT by itself wasn't enough, gonna quantize the model."
   ]
  },
  {
   "cell_type": "code",
   "execution_count": null,
   "id": "ee609a3e",
   "metadata": {},
   "outputs": [],
   "source": [
    "for name, module in siebert_model.named_modules():\n",
    "    if \"query\" in name or \"value\" in name:\n",
    "        print(name)"
   ]
  },
  {
   "cell_type": "code",
   "execution_count": null,
   "id": "7ca44bfd",
   "metadata": {},
   "outputs": [],
   "source": [
    "from transformers import AutoTokenizer, AutoModelForSequenceClassification, BitsAndBytesConfig\n",
    "from peft import LoftQConfig, get_peft_model, LoraConfig, TaskType\n",
    "\n",
    "\n",
    "model_name = \"siebert/sentiment-roberta-large-english\"\n",
    "\n",
    "siebert_tokenizer = AutoTokenizer.from_pretrained(model_name)\n",
    "siebert_model = AutoModelForSequenceClassification.from_pretrained(\n",
    "    model_name,\n",
    "    device_map=\"auto\"\n",
    ")\n",
    "\n",
    "# Use LoftQ config\n",
    "loftq_config = LoftQConfig(\n",
    "    loftq_bits=4\n",
    ")\n",
    "peft_config = LoraConfig(\n",
    "    task_type=TaskType.SEQ_CLS, r=1, lora_alpha=2, lora_dropout=0.1, bias=\"none\", init_lora_weights=\"loftq\", loftq_config=loftq_config\n",
    ")\n",
    "siebert_model = get_peft_model(siebert_model, peft_config)"
   ]
  },
  {
   "cell_type": "code",
   "execution_count": null,
   "id": "45141532",
   "metadata": {},
   "outputs": [],
   "source": [
    "train_encodings = utils.tokenize_data(x_train, siebert_tokenizer)\n",
    "val_encodings = utils.tokenize_data(x_val, siebert_tokenizer)\n",
    "\n",
    "train_dataset = CustomDataset(train_encodings, y_train)\n",
    "val_dataset = CustomDataset(val_encodings, y_val)\n",
    "\n",
    "\n",
    "training_args = TrainingArguments(\n",
    "    output_dir=\"./siebert_results\",\n",
    "    num_train_epochs=2,\n",
    "    per_device_train_batch_size=8,\n",
    "    per_device_eval_batch_size=16,\n",
    "    eval_strategy=\"epoch\",\n",
    "    logging_dir=\"./siebert_logs\",\n",
    "    learning_rate=2e-5,\n",
    "    weight_decay=0.01,\n",
    ")\n",
    "\n",
    "\n",
    "def compute_metrics(p):\n",
    "    preds = np.argmax(p.predictions, axis=1)\n",
    "    return {\n",
    "        \"accuracy\": accuracy_score(p.label_ids, preds),\n",
    "        \"f1\": f1_score(p.label_ids, preds),\n",
    "    }\n",
    "\n",
    "trainer = Trainer(\n",
    "    model=siebert_model,\n",
    "    args=training_args,\n",
    "    train_dataset=train_dataset,\n",
    "    eval_dataset=val_dataset,\n",
    "    compute_metrics=compute_metrics,\n",
    ")\n",
    "\n",
    "trainer.train()\n",
    "\n",
    "# Save the model\n",
    "trainer.save_model(\"siebert_model\")\n",
    "# Save the tokenizer\n",
    "siebert_tokenizer.save_pretrained(\"siebert_model\")"
   ]
  },
  {
   "cell_type": "code",
   "execution_count": null,
   "id": "d39abb1b",
   "metadata": {},
   "outputs": [],
   "source": []
  }
 ],
 "metadata": {
  "kernelspec": {
   "display_name": "Python 3",
   "language": "python",
   "name": "python3"
  },
  "language_info": {
   "codemirror_mode": {
    "name": "ipython",
    "version": 3
   },
   "file_extension": ".py",
   "mimetype": "text/x-python",
   "name": "python",
   "nbconvert_exporter": "python",
   "pygments_lexer": "ipython3",
   "version": "3.10.12"
  }
 },
 "nbformat": 4,
 "nbformat_minor": 5
}
