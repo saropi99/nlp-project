{
 "cells": [
  {
   "cell_type": "code",
   "execution_count": null,
   "metadata": {},
   "outputs": [],
   "source": [
    "#importin common libraries\n",
    "from our_preprocessing import *\n",
    "import matplotlib.pyplot as plt\n",
    "from wordcloud import WordCloud\n",
    "import numpy as np \n",
    "import pandas as pd "
   ]
  },
  {
   "cell_type": "markdown",
   "metadata": {},
   "source": [
    "## Download dataset files from HuggingFace"
   ]
  },
  {
   "cell_type": "markdown",
   "metadata": {},
   "source": [
    "### BESSTIE-reddit-sentiment-uk/"
   ]
  },
  {
   "cell_type": "code",
   "execution_count": null,
   "metadata": {},
   "outputs": [],
   "source": [
    "import pandas as pd\n",
    "\n",
    "splits = {'train': 'reddit-sentiment-uk-train.jsonl', 'validation': 'reddit-sentiment-uk-valid.jsonl'}\n",
    "df_reddit_sentiment_uk = pd.read_json(\"hf://datasets/mindhunter23/BESSTIE-reddit-sentiment-uk/\" + splits[\"train\"], lines=True)\n",
    "df_reddit_sentiment_uk_val = pd.read_json(\"hf://datasets/mindhunter23/BESSTIE-reddit-sentiment-uk/\" + splits[\"validation\"], lines=True)\n",
    "df_reddit_sentiment_uk"
   ]
  },
  {
   "cell_type": "code",
   "execution_count": null,
   "metadata": {},
   "outputs": [],
   "source": [
    "class_distribution(df_reddit_sentiment_uk) # Imbalanced data "
   ]
  },
  {
   "cell_type": "markdown",
   "metadata": {},
   "source": [
    "### BESSTIE-reddit-sentiment-au/"
   ]
  },
  {
   "cell_type": "code",
   "execution_count": null,
   "metadata": {},
   "outputs": [],
   "source": [
    "import pandas as pd\n",
    "\n",
    "splits = {'train': 'reddit-sentiment-au-train.jsonl', 'validation': 'reddit-sentiment-au-valid.jsonl'}\n",
    "df_reddit_sentiment_au = pd.read_json(\"hf://datasets/mindhunter23/BESSTIE-reddit-sentiment-au/\" + splits[\"train\"], lines=True)\n",
    "df_reddit_sentiment_au_val = pd.read_json(\"hf://datasets/mindhunter23/BESSTIE-reddit-sentiment-au/\" + splits[\"validation\"], lines=True)\n",
    "df_reddit_sentiment_au"
   ]
  },
  {
   "cell_type": "code",
   "execution_count": null,
   "metadata": {},
   "outputs": [],
   "source": [
    "class_distribution(df_reddit_sentiment_au)"
   ]
  },
  {
   "cell_type": "markdown",
   "metadata": {},
   "source": [
    "### BESSTIE-google-sentiment-uk"
   ]
  },
  {
   "cell_type": "code",
   "execution_count": null,
   "metadata": {},
   "outputs": [],
   "source": [
    "import pandas as pd\n",
    "\n",
    "splits = {'train': 'google-sentiment-uk-train.jsonl', 'validation': 'google-sentiment-uk-valid.jsonl'}\n",
    "df_google_sentiment_uk = pd.read_json(\"hf://datasets/mindhunter23/BESSTIE-google-sentiment-uk/\" + splits[\"train\"], lines=True)\n",
    "df_google_sentiment_uk_val = pd.read_json(\"hf://datasets/mindhunter23/BESSTIE-google-sentiment-uk/\" + splits[\"validation\"], lines=True)\n",
    "df_google_sentiment_uk"
   ]
  },
  {
   "cell_type": "code",
   "execution_count": null,
   "metadata": {},
   "outputs": [],
   "source": [
    "class_distribution(df_google_sentiment_uk)"
   ]
  },
  {
   "cell_type": "markdown",
   "metadata": {},
   "source": [
    "### BESSTIE-google-sentiment-au"
   ]
  },
  {
   "cell_type": "code",
   "execution_count": null,
   "metadata": {},
   "outputs": [],
   "source": [
    "import pandas as pd\n",
    "\n",
    "splits = {'train': 'data/google-sentiment-au-train.jsonl', 'validation': 'data/google-sentiment-au-valid.jsonl'}\n",
    "df_google_sentiment_au = pd.read_json(\"hf://datasets/mindhunter23/BESSTIE-google-sentiment-au/\" + splits[\"train\"], lines=True)\n",
    "df_google_sentiment_au_val = pd.read_json(\"hf://datasets/mindhunter23/BESSTIE-google-sentiment-au/\" + splits[\"validation\"], lines=True)\n",
    "df_google_sentiment_au"
   ]
  },
  {
   "cell_type": "code",
   "execution_count": null,
   "metadata": {},
   "outputs": [],
   "source": [
    "class_distribution(df_google_sentiment_au)"
   ]
  },
  {
   "cell_type": "markdown",
   "metadata": {},
   "source": [
    "### BESSTIE-reddit-sentiment-in"
   ]
  },
  {
   "cell_type": "code",
   "execution_count": null,
   "metadata": {},
   "outputs": [],
   "source": [
    "import pandas as pd\n",
    "\n",
    "splits = {'train': 'reddit-sentiment-in-train.jsonl', 'validation': 'reddit-sentiment-in-valid.jsonl'}\n",
    "df_reddit_sentiment_in = pd.read_json(\"hf://datasets/mindhunter23/BESSTIE-reddit-sentiment-in/\" + splits[\"train\"], lines=True)\n",
    "df_reddit_sentiment_in_val = pd.read_json(\"hf://datasets/mindhunter23/BESSTIE-reddit-sentiment-in/\" + splits[\"validation\"], lines=True)\n",
    "df_reddit_sentiment_in"
   ]
  },
  {
   "cell_type": "code",
   "execution_count": null,
   "metadata": {},
   "outputs": [],
   "source": [
    "class_distribution(df_reddit_sentiment_in)"
   ]
  },
  {
   "cell_type": "markdown",
   "metadata": {},
   "source": [
    "### BESSTIE-google-sentiment-in"
   ]
  },
  {
   "cell_type": "code",
   "execution_count": null,
   "metadata": {},
   "outputs": [],
   "source": [
    "import pandas as pd\n",
    "\n",
    "splits = {'train': 'google-sentiment-in-train.jsonl', 'validation': 'google-sentiment-in-valid.jsonl'}\n",
    "df_google_sentiment_in = pd.read_json(\"hf://datasets/mindhunter23/BESSTIE-google-sentiment-in/\" + splits[\"train\"], lines=True)\n",
    "df_google_sentiment_in_val = pd.read_json(\"hf://datasets/mindhunter23/BESSTIE-google-sentiment-in/\" + splits[\"validation\"], lines=True)\n",
    "df_google_sentiment_in"
   ]
  },
  {
   "cell_type": "code",
   "execution_count": null,
   "metadata": {},
   "outputs": [],
   "source": [
    "class_distribution(df_google_sentiment_in)"
   ]
  },
  {
   "cell_type": "markdown",
   "metadata": {},
   "source": [
    "## EDA"
   ]
  },
  {
   "cell_type": "code",
   "execution_count": null,
   "metadata": {},
   "outputs": [],
   "source": [
    "# Assuming all datasets are already loaded as DataFrames\n",
    "combined_sentiment_df = pd.concat(\n",
    "    [\n",
    "        df_reddit_sentiment_uk,\n",
    "        df_reddit_sentiment_au,\n",
    "        df_google_sentiment_uk,\n",
    "        df_google_sentiment_au,\n",
    "        df_reddit_sentiment_in,\n",
    "        df_google_sentiment_in\n",
    "    ],\n",
    "    axis=0,  # Concatenate vertically (row-wise)\n",
    "    ignore_index=True  # Reset the index in the combined DataFrame\n",
    ")\n",
    "\n",
    "# Assuming all datasets are already loaded as DataFrames\n",
    "combined_sentiment_df_val = pd.concat(\n",
    "    [\n",
    "        df_reddit_sentiment_uk_val,\n",
    "        df_reddit_sentiment_au_val,\n",
    "        df_google_sentiment_uk_val,\n",
    "        df_google_sentiment_au_val,\n",
    "        df_reddit_sentiment_in_val,\n",
    "        df_google_sentiment_in_val\n",
    "    ],\n",
    "    axis=0,  # Concatenate vertically (row-wise)\n",
    "    ignore_index=True  # Reset the index in the combined DataFrame\n",
    ")\n",
    "\n",
    "# Display the combined DataFrame\n",
    "print(combined_sentiment_df.head())\n",
    "print(f\"Total rows in combined dataset: {len(combined_sentiment_df)}\")"
   ]
  },
  {
   "cell_type": "code",
   "execution_count": null,
   "metadata": {},
   "outputs": [],
   "source": [
    "class_distribution(combined_sentiment_df)"
   ]
  },
  {
   "cell_type": "markdown",
   "metadata": {},
   "source": [
    "#### Number of characters per sentence"
   ]
  },
  {
   "cell_type": "code",
   "execution_count": null,
   "metadata": {},
   "outputs": [],
   "source": [
    "combined_sentiment_df['text'].str.len().hist()"
   ]
  },
  {
   "cell_type": "code",
   "execution_count": null,
   "metadata": {},
   "outputs": [],
   "source": [
    "fig,(ax1,ax2)=plt.subplots(1,2,figsize=(12,8))\n",
    "ax1.hist(combined_sentiment_df[combined_sentiment_df['sentiment_label']==1]['text'].str.len())\n",
    "ax1.set_title( 'Positive Reviews')\n",
    "ax2.hist(combined_sentiment_df[combined_sentiment_df['sentiment_label']==0]['text'].str.len())\n",
    "ax2.set_title( 'Negative Reviews')"
   ]
  },
  {
   "cell_type": "markdown",
   "metadata": {},
   "source": [
    "#### Most common words"
   ]
  },
  {
   "cell_type": "code",
   "execution_count": null,
   "metadata": {},
   "outputs": [],
   "source": [
    "# POSITIVE SENTIMENT\n",
    "text = \" \".join(i for i in combined_sentiment_df[combined_sentiment_df['sentiment_label']==1]['text'])\n",
    "wordcloud = WordCloud( background_color=\"white\").generate(text)\n",
    "\n",
    "plt.figure( figsize=(15,10))\n",
    "plt.imshow(wordcloud, interpolation='bilinear')\n",
    "plt.axis(\"off\")\n",
    "plt.title('wordcloud for positive review')\n",
    "plt.show()\n"
   ]
  },
  {
   "cell_type": "code",
   "execution_count": null,
   "metadata": {},
   "outputs": [],
   "source": [
    "# NEGATIVE SENTIMENT\n",
    "text = \" \".join(i for i in combined_sentiment_df[combined_sentiment_df['sentiment_label']==0]['text'])\n",
    "wordcloud = WordCloud( background_color=\"white\").generate(text)\n",
    "\n",
    "plt.figure( figsize=(15,10))\n",
    "plt.imshow(wordcloud, interpolation='bilinear')\n",
    "plt.axis(\"off\")\n",
    "plt.title('wordcloud for positive review')\n",
    "plt.show()\n"
   ]
  },
  {
   "cell_type": "markdown",
   "metadata": {},
   "source": [
    "## Preprocessing"
   ]
  },
  {
   "cell_type": "markdown",
   "metadata": {},
   "source": [
    "### Dataset transformation"
   ]
  },
  {
   "cell_type": "markdown",
   "metadata": {},
   "source": [
    "#### Training dataset"
   ]
  },
  {
   "cell_type": "code",
   "execution_count": null,
   "metadata": {},
   "outputs": [],
   "source": [
    "## Text processing\n",
    "combined_sentiment_df['clean_text']= combined_sentiment_df['text'].apply(lambda x: text_preprocess(x, remove_stopwords=True, remove_digits=True, stemmer=Stemmer.WordNet))\n",
    "combined_sentiment_df"
   ]
  },
  {
   "cell_type": "code",
   "execution_count": null,
   "metadata": {},
   "outputs": [],
   "source": [
    "#tokenization\n",
    "combined_sentiment_df['tokenized_text'] = combined_sentiment_df['clean_text'].apply(lambda x: word_tokenize(x))\n",
    "combined_sentiment_df"
   ]
  },
  {
   "cell_type": "code",
   "execution_count": null,
   "metadata": {},
   "outputs": [],
   "source": [
    "combined_sentiment_df.to_csv('data_sentiment_preprocessed.csv', index=False)"
   ]
  },
  {
   "cell_type": "markdown",
   "metadata": {},
   "source": [
    "#### validation dataset"
   ]
  },
  {
   "cell_type": "code",
   "execution_count": null,
   "metadata": {},
   "outputs": [],
   "source": [
    "## Text processing\n",
    "combined_sentiment_df_val['clean_text']= combined_sentiment_df_val['text'].apply(lambda x: text_preprocess(x, remove_stopwords=True, remove_digits=True, stemmer=Stemmer.WordNet))\n",
    "combined_sentiment_df_val"
   ]
  },
  {
   "cell_type": "code",
   "execution_count": null,
   "metadata": {},
   "outputs": [],
   "source": [
    "#tokenization\n",
    "combined_sentiment_df_val['tokenized_text'] = combined_sentiment_df_val['clean_text'].apply(lambda x: word_tokenize(x))\n",
    "combined_sentiment_df_val"
   ]
  },
  {
   "cell_type": "code",
   "execution_count": null,
   "metadata": {},
   "outputs": [],
   "source": [
    "combined_sentiment_df_val.to_csv('data_sentiment_preprocessed_val.csv', index=False)"
   ]
  },
  {
   "cell_type": "markdown",
   "metadata": {},
   "source": [
    "## Feature extraction"
   ]
  },
  {
   "cell_type": "code",
   "execution_count": null,
   "metadata": {},
   "outputs": [],
   "source": [
    "combined_sentiment_df = pd.read_csv(\"data_sentiment_preprocessed.csv\")\n",
    "combined_sentiment_df_val = pd.read_csv(\"data_sentiment_preprocessed_val.csv\")\n",
    "\n",
    "from our_feature_extraction import basic_bag, tf_idf\n",
    "# Split the data\n",
    "X_train = combined_sentiment_df.tokenized_text\n",
    "y_train = combined_sentiment_df.sentiment_label\n",
    "X_val = combined_sentiment_df_val.tokenized_text\n",
    "y_val = combined_sentiment_df_val.sentiment_label\n"
   ]
  },
  {
   "cell_type": "markdown",
   "metadata": {},
   "source": [
    "### Bag of words"
   ]
  },
  {
   "cell_type": "code",
   "execution_count": null,
   "metadata": {},
   "outputs": [],
   "source": [
    "word_counts, vocab, selected_words, vectorizer, X_train_vec, X_val_vec = basic_bow(X_train, X_val, min_refs=3, debug=True)"
   ]
  },
  {
   "cell_type": "code",
   "execution_count": null,
   "metadata": {},
   "outputs": [],
   "source": [
    "# 10 most common words\n",
    "word_counts = np.asarray(X_train_vec.sum(axis=0)).flatten()\n",
    "vocab = np.array(vectorizer.get_feature_names_out())\n",
    "\n",
    "top_indices = np.argsort(word_counts)[::-1]\n",
    "top_words = vocab[top_indices[:10]]\n",
    "top_counts = word_counts[top_indices[:10]]\n",
    "\n",
    "print('Most common words:')\n",
    "for word, count in zip(top_words, top_counts):\n",
    "    print(f\"{word}: {count}\")"
   ]
  },
  {
   "cell_type": "code",
   "execution_count": null,
   "metadata": {},
   "outputs": [],
   "source": [
    "np.unique(X_train_vec[2].toarray())"
   ]
  },
  {
   "cell_type": "markdown",
   "metadata": {},
   "source": [
    "### 1-hot vectors"
   ]
  },
  {
   "cell_type": "code",
   "execution_count": null,
   "metadata": {},
   "outputs": [],
   "source": [
    "word_counts, vocab, selected_words, vectorizer, X_train_hot, X_val_hot = basic_bow(X_train, X_val, ohe=True)\n",
    "print('Shape (X_train_hot): ', X_train_hot.shape)\n",
    "# Transforming X_val data\n",
    "print('Shape (X_val_hot): ', X_val_hot.shape)"
   ]
  },
  {
   "cell_type": "code",
   "execution_count": null,
   "metadata": {},
   "outputs": [],
   "source": [
    "# Checking if dataset is binary\n",
    "unique = np.unique(X_train_hot.toarray())\n",
    "print('Unique values:', unique)"
   ]
  },
  {
   "cell_type": "markdown",
   "metadata": {},
   "source": [
    "### TF-IDF"
   ]
  },
  {
   "cell_type": "code",
   "execution_count": null,
   "metadata": {},
   "outputs": [],
   "source": [
    "word_counts, vocab, selected_words, vectorizer, X_train_vec, X_val_vec = tf_idf(X_train, X_val, debug=True)"
   ]
  },
  {
   "cell_type": "code",
   "execution_count": null,
   "metadata": {},
   "outputs": [],
   "source": [
    "word_counts"
   ]
  },
  {
   "cell_type": "markdown",
   "metadata": {},
   "source": [
    "### N-grams"
   ]
  },
  {
   "cell_type": "markdown",
   "metadata": {},
   "source": [
    "#### Bigrams"
   ]
  },
  {
   "cell_type": "code",
   "execution_count": null,
   "metadata": {},
   "outputs": [],
   "source": [
    "word_counts, vocab, selected_words, vectorizer, X_train_vec, X_val_vec = basic_bag(X_train, X_val, ngram_range=(2,2), min_refs=3, debug=True)"
   ]
  },
  {
   "cell_type": "code",
   "execution_count": null,
   "metadata": {},
   "outputs": [],
   "source": [
    "bigram_vocab = vectorizer_bi.get_feature_names_out()\n",
    "bigram_counts = np.asarray(X_train_bi.sum(axis=0)).flatten()\n",
    "\n",
    "bigram_freq = list(zip(bigram_vocab, bigram_counts))\n",
    "\n",
    "# Soritng\n",
    "sorted_bigram_freq = sorted(bigram_freq, key=lambda x: x[1], reverse=True)\n",
    "\n",
    "print(\"10 most common bigrams:\")\n",
    "for bigram, count in sorted_bigram_freq[:10]:\n",
    "    print(f\"{bigram}: {count}\")"
   ]
  },
  {
   "cell_type": "markdown",
   "metadata": {},
   "source": [
    "## Modeling"
   ]
  },
  {
   "cell_type": "markdown",
   "metadata": {},
   "source": [
    "### sentimen"
   ]
  },
  {
   "cell_type": "code",
   "execution_count": null,
   "metadata": {},
   "outputs": [],
   "source": [
    "\n",
    "import pandas as pd\n",
    "from sklearn.model_selection import train_test_split\n",
    "from sklearn.feature_extraction.text import CountVectorizer\n",
    "from sklearn.naive_bayes import MultinomialNB\n",
    "from sklearn.metrics import accuracy_score, classification_report, confusion_matrix\n",
    "\n",
    "combined_sentiment_df = pd.read_csv(\"data_sentiment_preprocessed.csv\")\n",
    "combined_sentiment_df_val = pd.read_csv(\"data_sentiment_preprocessed_val.csv\")\n",
    "\n",
    "# Split the data\n",
    "X_train = combined_sentiment_df['tokenized_text']\n",
    "y_train = combined_sentiment_df['sentiment_label']\n",
    "X_val = combined_sentiment_df_val['tokenized_text']\n",
    "y_val = combined_sentiment_df_val['sentiment_label']\n",
    "\n",
    "\n",
    "\n",
    "# Convert text to numerical features\n",
    "#BoW\n",
    "word_counts, vocab, selected_words, vectorizer, X_train_vec, X_val_vec = basic_bow(X_train, X_val)\n",
    "\n",
    "# Train the Naive Bayes model\n",
    "nb_model = MultinomialNB()\n",
    "nb_model.fit(X_train_vec, y_train)\n",
    "\n",
    "# Make predictions\n",
    "y_pred = nb_model.predict(X_val_vec)\n",
    "\n",
    "# Evaluate the model\n",
    "accuracy = accuracy_score(y_val, y_pred)\n",
    "print(f\"Accuracy: {accuracy:.4f}\")\n",
    "print(\"\\nClassification Report:\")\n",
    "print(classification_report(y_val, y_pred))\n",
    "print(\"\\nConfusion Matrix:\")\n",
    "print(confusion_matrix(y_val, y_pred))"
   ]
  },
  {
   "cell_type": "code",
   "execution_count": null,
   "metadata": {},
   "outputs": [],
   "source": []
  }
 ],
 "metadata": {
  "kernelspec": {
   "display_name": "Python 3",
   "language": "python",
   "name": "python3"
  },
  "language_info": {
   "codemirror_mode": {
    "name": "ipython",
    "version": 3
   },
   "file_extension": ".py",
   "mimetype": "text/x-python",
   "name": "python",
   "nbconvert_exporter": "python",
   "pygments_lexer": "ipython3",
   "version": "3.10.12"
  }
 },
 "nbformat": 4,
 "nbformat_minor": 4
}
