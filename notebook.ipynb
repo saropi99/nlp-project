{
 "cells": [
  {
   "cell_type": "markdown",
   "metadata": {},
   "source": [
    "# Assignment 1: Sentiment Analysis Classifier\n",
    "\n",
    "##### Group 26: Michal Dawid Kowalski (up202401554) | Pedro Maria Passos Ribeiro do Carmo Pereira (up201708807) | Santiago Romero Pineda (up)\n",
    "\n",
    "In this assignment, we will build a sentiment analysis classifier using traditional machine learning techniques. The process includes pre-processing, feature extraction, and exploring both sparse and dense feature representations like word embeddings. We will use \"traditional\" machine learning classifier instead of deep learning models (CNNs, RNNs, Transformers). The focus will be on understanding text classification techniques and evaluating their performance on the given dataset using common classification metrics like accuracy, precision, recall, and F1-score.\n",
    "\n"
   ]
  },
  {
   "cell_type": "code",
   "execution_count": 1,
   "metadata": {
    "ExecuteTime": {
     "end_time": "2025-03-28T01:18:10.179041Z",
     "start_time": "2025-03-28T01:17:57.599231Z"
    }
   },
   "outputs": [
    {
     "name": "stderr",
     "output_type": "stream",
     "text": [
      "/opt/anaconda3/envs/tfenv/lib/python3.8/site-packages/gensim/similarities/__init__.py:15: UserWarning: The gensim.similarities.levenshtein submodule is disabled, because the optional Levenshtein package <https://pypi.org/project/python-Levenshtein/> is unavailable. Install Levenhstein (e.g. `pip install python-Levenshtein`) to suppress this warning.\n",
      "  warnings.warn(msg)\n",
      "/opt/anaconda3/envs/tfenv/lib/python3.8/site-packages/tqdm/auto.py:21: TqdmWarning: IProgress not found. Please update jupyter and ipywidgets. See https://ipywidgets.readthedocs.io/en/stable/user_install.html\n",
      "  from .autonotebook import tqdm as notebook_tqdm\n",
      "2025-03-30 09:40:16.713068: I tensorflow/core/platform/cpu_feature_guard.cc:182] This TensorFlow binary is optimized to use available CPU instructions in performance-critical operations.\n",
      "To enable the following instructions: SSE4.1 SSE4.2 AVX AVX2 AVX512F AVX512_VNNI FMA, in other operations, rebuild TensorFlow with the appropriate compiler flags.\n",
      "[nltk_data] Downloading package stopwords to /Users/me/nltk_data...\n",
      "[nltk_data]   Package stopwords is already up-to-date!\n",
      "[nltk_data] Downloading package punkt to /Users/me/nltk_data...\n",
      "[nltk_data]   Package punkt is already up-to-date!\n",
      "[nltk_data] Downloading package wordnet to /Users/me/nltk_data...\n",
      "[nltk_data]   Package wordnet is already up-to-date!\n",
      "[nltk_data] Downloading package averaged_perceptron_tagger to\n",
      "[nltk_data]     /Users/me/nltk_data...\n",
      "[nltk_data]   Package averaged_perceptron_tagger is already up-to-\n",
      "[nltk_data]       date!\n",
      "[nltk_data] Downloading package averaged_perceptron_tagger_eng to\n",
      "[nltk_data]     /Users/me/nltk_data...\n",
      "[nltk_data]   Package averaged_perceptron_tagger_eng is already up-to-\n",
      "[nltk_data]       date!\n"
     ]
    }
   ],
   "source": [
    "# Import libraries \n",
    "from our_eda import *\n",
    "from our_modeling import *\n",
    "from our_preprocessing import *\n",
    "from our_feature_extraction import *\n",
    "import matplotlib.pyplot as plt\n",
    "from wordcloud import WordCloud\n",
    "import numpy as np\n",
    "import pandas as pd\n",
    "from our_feature_selection import *\n",
    "import gensim.downloader as api\n",
    "from nltk.tokenize import word_tokenize"
   ]
  },
  {
   "cell_type": "markdown",
   "metadata": {},
   "source": [
    "# 1. BESSTIE Dataset"
   ]
  },
  {
   "cell_type": "markdown",
   "metadata": {},
   "source": [
    "## 1.1 Uploading Dataset Files from HuggingFace (https://huggingface.co/mindhunter23)\n",
    "\n",
    "The dataset is hosted on Hugging Face under the username \"mindhunter23.\" It consists of text data collected from Reddit and Google for the countries UK, AU, and IN. All texts are in English and are labeled with sentiment values: 0 for negative sentiment and 1 for positive sentiment. The dataset is already split into training and validation sets, making it ready for sentiment analysis tasks. It offers diverse content from different regions and platforms."
   ]
  },
  {
   "cell_type": "markdown",
   "metadata": {},
   "source": [
    "### - BESSTIE-reddit-sentiment-uk/"
   ]
  },
  {
   "cell_type": "code",
   "execution_count": null,
   "metadata": {},
   "outputs": [],
   "source": [
    "splits = {'train': 'reddit-sentiment-uk-train.jsonl', 'validation': 'reddit-sentiment-uk-valid.jsonl'}\n",
    "df_reddit_sentiment_uk = pd.read_json(\"hf://datasets/mindhunter23/BESSTIE-reddit-sentiment-uk/\" + splits[\"train\"], lines=True)\n",
    "df_reddit_sentiment_uk_val = pd.read_json(\"hf://datasets/mindhunter23/BESSTIE-reddit-sentiment-uk/\" + splits[\"validation\"], lines=True)\n",
    "df_reddit_sentiment_uk.head(5)"
   ]
  },
  {
   "cell_type": "code",
   "execution_count": null,
   "metadata": {},
   "outputs": [],
   "source": [
    "print('Training CLasses Distribution\\n')\n",
    "print(class_distribution(df_reddit_sentiment_uk))\n",
    "print('Validation CLasses Distribution\\n')\n",
    "print(class_distribution(df_reddit_sentiment_uk_val))"
   ]
  },
  {
   "cell_type": "markdown",
   "metadata": {},
   "source": [
    "### - BESSTIE-reddit-sentiment-au/"
   ]
  },
  {
   "cell_type": "code",
   "execution_count": null,
   "metadata": {},
   "outputs": [],
   "source": [
    "splits = {'train': 'reddit-sentiment-au-train.jsonl', 'validation': 'reddit-sentiment-au-valid.jsonl'}\n",
    "df_reddit_sentiment_au = pd.read_json(\"hf://datasets/mindhunter23/BESSTIE-reddit-sentiment-au/\" + splits[\"train\"], lines=True)\n",
    "df_reddit_sentiment_au_val = pd.read_json(\"hf://datasets/mindhunter23/BESSTIE-reddit-sentiment-au/\" + splits[\"validation\"], lines=True)\n",
    "df_reddit_sentiment_au.head(5)"
   ]
  },
  {
   "cell_type": "code",
   "execution_count": null,
   "metadata": {},
   "outputs": [],
   "source": [
    "print('Training CLasses Distribution\\n')\n",
    "print(class_distribution(df_reddit_sentiment_au))\n",
    "print('Validation CLasses Distribution\\n')\n",
    "print(class_distribution(df_reddit_sentiment_au_val))"
   ]
  },
  {
   "cell_type": "markdown",
   "metadata": {},
   "source": [
    "### - BESSTIE-google-sentiment-uk"
   ]
  },
  {
   "cell_type": "code",
   "execution_count": null,
   "metadata": {},
   "outputs": [],
   "source": [
    "splits = {'train': 'google-sentiment-uk-train.jsonl', 'validation': 'google-sentiment-uk-valid.jsonl'}\n",
    "df_google_sentiment_uk = pd.read_json(\"hf://datasets/mindhunter23/BESSTIE-google-sentiment-uk/\" + splits[\"train\"], lines=True)\n",
    "df_google_sentiment_uk_val = pd.read_json(\"hf://datasets/mindhunter23/BESSTIE-google-sentiment-uk/\" + splits[\"validation\"], lines=True)\n",
    "df_google_sentiment_uk.head(5)"
   ]
  },
  {
   "cell_type": "code",
   "execution_count": null,
   "metadata": {},
   "outputs": [],
   "source": [
    "print('Training CLasses Distribution\\n')\n",
    "print(class_distribution(df_google_sentiment_uk))\n",
    "print('Validation CLasses Distribution\\n')\n",
    "print(class_distribution(df_google_sentiment_uk_val))"
   ]
  },
  {
   "cell_type": "markdown",
   "metadata": {},
   "source": [
    "### - BESSTIE-google-sentiment-au"
   ]
  },
  {
   "cell_type": "code",
   "execution_count": null,
   "metadata": {},
   "outputs": [],
   "source": [
    "splits = {'train': 'data/google-sentiment-au-train.jsonl', 'validation': 'data/google-sentiment-au-valid.jsonl'}\n",
    "df_google_sentiment_au = pd.read_json(\"hf://datasets/mindhunter23/BESSTIE-google-sentiment-au/\" + splits[\"train\"], lines=True)\n",
    "df_google_sentiment_au_val = pd.read_json(\"hf://datasets/mindhunter23/BESSTIE-google-sentiment-au/\" + splits[\"validation\"], lines=True)\n",
    "df_google_sentiment_au.head(5)"
   ]
  },
  {
   "cell_type": "code",
   "execution_count": null,
   "metadata": {},
   "outputs": [],
   "source": [
    "print('Training CLasses Distribution\\n')\n",
    "print(class_distribution(df_google_sentiment_au))\n",
    "print('Validation CLasses Distribution\\n')\n",
    "print(class_distribution(df_google_sentiment_au_val))"
   ]
  },
  {
   "cell_type": "markdown",
   "metadata": {},
   "source": [
    "### - BESSTIE-reddit-sentiment-in"
   ]
  },
  {
   "cell_type": "code",
   "execution_count": null,
   "metadata": {},
   "outputs": [],
   "source": [
    "splits = {'train': 'reddit-sentiment-in-train.jsonl', 'validation': 'reddit-sentiment-in-valid.jsonl'}\n",
    "df_reddit_sentiment_in = pd.read_json(\"hf://datasets/mindhunter23/BESSTIE-reddit-sentiment-in/\" + splits[\"train\"], lines=True)\n",
    "df_reddit_sentiment_in_val = pd.read_json(\"hf://datasets/mindhunter23/BESSTIE-reddit-sentiment-in/\" + splits[\"validation\"], lines=True)\n",
    "df_reddit_sentiment_in.head(5)"
   ]
  },
  {
   "cell_type": "code",
   "execution_count": null,
   "metadata": {},
   "outputs": [],
   "source": [
    "print('Training CLasses Distribution\\n')\n",
    "print(class_distribution(df_reddit_sentiment_in))\n",
    "print('Validation CLasses Distribution\\n')\n",
    "print(class_distribution(df_reddit_sentiment_in_val))"
   ]
  },
  {
   "cell_type": "markdown",
   "metadata": {},
   "source": [
    "### - BESSTIE-google-sentiment-in"
   ]
  },
  {
   "cell_type": "code",
   "execution_count": null,
   "metadata": {},
   "outputs": [],
   "source": [
    "splits = {'train': 'google-sentiment-in-train.jsonl', 'validation': 'google-sentiment-in-valid.jsonl'}\n",
    "df_google_sentiment_in = pd.read_json(\"hf://datasets/mindhunter23/BESSTIE-google-sentiment-in/\" + splits[\"train\"], lines=True)\n",
    "df_google_sentiment_in_val = pd.read_json(\"hf://datasets/mindhunter23/BESSTIE-google-sentiment-in/\" + splits[\"validation\"], lines=True)\n",
    "df_google_sentiment_in.head(5)"
   ]
  },
  {
   "cell_type": "code",
   "execution_count": null,
   "metadata": {},
   "outputs": [],
   "source": [
    "print('Training CLasses Distribution\\n')\n",
    "print(class_distribution(df_google_sentiment_in))\n",
    "print('Validation CLasses Distribution\\n')\n",
    "print(class_distribution(df_google_sentiment_in_val))"
   ]
  },
  {
   "cell_type": "markdown",
   "metadata": {},
   "source": [
    "# 2. Initial Data Preprocessing"
   ]
  },
  {
   "cell_type": "markdown",
   "metadata": {},
   "source": [
    "## 2.1 Testing text_preprocess() func"
   ]
  },
  {
   "cell_type": "code",
   "execution_count": null,
   "metadata": {},
   "outputs": [],
   "source": [
    "# Test the preprocessing function \n",
    "print('Original:\\n', df_reddit_sentiment_uk.loc[0].text,'\\n')\n",
    "print('Lemmatization:\\n',text_preprocess(df_reddit_sentiment_uk.loc[0].text, remove_digits=True, stemmer=Stemmer.WordNet),'\\n')\n",
    "print('Stemming:\\n',text_preprocess(df_reddit_sentiment_uk.loc[0].text),'\\n')"
   ]
  },
  {
   "cell_type": "markdown",
   "metadata": {},
   "source": [
    "## 2.2 Concatening datasets\n",
    "### SENTIMENT DATASET"
   ]
  },
  {
   "cell_type": "code",
   "execution_count": null,
   "metadata": {},
   "outputs": [],
   "source": [
    "# Assue all datasets are already loaded as DataFrames\n",
    "combined_sentiment_df = pd.concat(\n",
    "    [\n",
    "        df_reddit_sentiment_uk,\n",
    "        df_reddit_sentiment_au,\n",
    "        df_google_sentiment_uk,\n",
    "        df_google_sentiment_au,\n",
    "        df_reddit_sentiment_in,\n",
    "        df_google_sentiment_in\n",
    "    ],\n",
    "    axis=0,  # Concatenate vertically (row-wise)\n",
    "    ignore_index=True  # Reset the index in the combined DataFrame\n",
    ")\n",
    "\n",
    "# Assue all datasets are already loaded as DataFrames\n",
    "combined_sentiment_df_val = pd.concat(\n",
    "    [\n",
    "        df_reddit_sentiment_uk_val,\n",
    "        df_reddit_sentiment_au_val,\n",
    "        df_google_sentiment_uk_val,\n",
    "        df_google_sentiment_au_val,\n",
    "        df_reddit_sentiment_in_val,\n",
    "        df_google_sentiment_in_val\n",
    "    ],\n",
    "    axis=0,  # Concatenate vertically (row-wise)\n",
    "    ignore_index=True  # Reset the index in the combined DataFrame\n",
    ")"
   ]
  },
  {
   "cell_type": "code",
   "execution_count": null,
   "metadata": {},
   "outputs": [],
   "source": [
    "# Save combined data\n",
    "combined_sentiment_df.to_csv(\"data_sentiment_preprocessed.csv\", index=False)\n",
    "combined_sentiment_df_val.to_csv(\"data_sentiment_preprocessed_val.csv\", index=False)"
   ]
  },
  {
   "cell_type": "markdown",
   "metadata": {},
   "source": [
    "# 3. EDA"
   ]
  },
  {
   "cell_type": "code",
   "execution_count": null,
   "metadata": {},
   "outputs": [],
   "source": [
    "# Optional, when already have necessary data files\n",
    "# combined_sentiment_df = pd.read_csv(\"data_sentiment_preprocessed.csv\")\n",
    "# combined_sentiment_df_val = pd.read_csv(\"data_sentiment_preprocessed_val.csv\")\n",
    "\n",
    "# Display the combined DataFrame\n",
    "print(f\"Total rows in combined training dataset: {len(combined_sentiment_df)}\\n\")\n",
    "print('\\nClasses Distribution in Training Dataset:\\n')\n",
    "class_distribution(combined_sentiment_df)\n",
    "print('\\n')\n",
    "plt.figure(figsize=(6,4))\n",
    "combined_sentiment_df['sentiment_label'].value_counts().plot(kind='bar', color='skyblue')\n",
    "plt.title('Distribution of Sentiment Labels (Training)')\n",
    "plt.xlabel('Sentiment Label')\n",
    "plt.ylabel('Frequency')\n",
    "plt.xticks(rotation=0)\n",
    "plt.show()\n",
    "print(\"Training Dataset:\\n\")\n",
    "combined_sentiment_df.head(5)"
   ]
  },
  {
   "cell_type": "code",
   "execution_count": null,
   "metadata": {},
   "outputs": [],
   "source": [
    "# Display the combined DataFrame\n",
    "print(f\"Total rows in combined validation dataset: {len(combined_sentiment_df_val)}\\n\")\n",
    "print('\\nClasses Distribution in Validation Dataset:\\n')\n",
    "class_distribution(combined_sentiment_df)\n",
    "print('\\n')\n",
    "plt.figure(figsize=(6,4))\n",
    "combined_sentiment_df_val['sentiment_label'].value_counts().plot(kind='bar', color='skyblue')\n",
    "plt.title('Distribution of Sentiment Labels (Validation)')\n",
    "plt.xlabel('Sentiment Label')\n",
    "plt.ylabel('Frequency')\n",
    "plt.xticks(rotation=0)\n",
    "plt.show()\n",
    "print(\"Validation Dataset:\\n\")\n",
    "combined_sentiment_df_val.head(5)"
   ]
  },
  {
   "cell_type": "markdown",
   "metadata": {},
   "source": [
    "#### Number of characters per review:"
   ]
  },
  {
   "cell_type": "code",
   "execution_count": null,
   "metadata": {},
   "outputs": [],
   "source": [
    "plt.figure(figsize=(8, 4))\n",
    "combined_sentiment_df['text'].str.len().hist(bins=50, color='skyblue', edgecolor='black')\n",
    "plt.title('Distribution of Text Length (Character Count)', fontsize=12)\n",
    "plt.xlabel('Character Count', fontsize=10)\n",
    "plt.ylabel('Sample Count', fontsize=10)\n",
    "plt.xticks(fontsize=8)\n",
    "plt.yticks(fontsize=8)\n",
    "plt.grid(True, linestyle='--', alpha=0.7)\n",
    "plt.show()"
   ]
  },
  {
   "cell_type": "code",
   "execution_count": null,
   "metadata": {},
   "outputs": [],
   "source": [
    "fig, (ax1, ax2) = plt.subplots(1, 2, figsize=(12, 6))\n",
    "\n",
    "ax1.hist(combined_sentiment_df[combined_sentiment_df['sentiment_label'] == 1]['text'].str.len(), bins=50, color='skyblue', edgecolor='black')\n",
    "ax1.set_title('Positive Reviews', fontsize=12)\n",
    "ax1.set_xlabel('Character Count', fontsize=10)\n",
    "ax1.set_ylabel('Sample Count', fontsize=10)\n",
    "ax1.tick_params(axis='both', labelsize=8)\n",
    "ax1.grid(True, linestyle='--', alpha=0.7)\n",
    "\n",
    "ax2.hist(combined_sentiment_df[combined_sentiment_df['sentiment_label'] == 0]['text'].str.len(), bins=50, color='skyblue', edgecolor='black')\n",
    "ax2.set_title('Negative Reviews', fontsize=12)\n",
    "ax2.set_xlabel('Character Count', fontsize=10)\n",
    "ax2.set_ylabel('Sample Count', fontsize=10)\n",
    "ax2.tick_params(axis='both', labelsize=8)\n",
    "ax2.grid(True, linestyle='--', alpha=0.7)\n",
    "\n",
    "plt.tight_layout()\n",
    "plt.show()"
   ]
  },
  {
   "cell_type": "markdown",
   "metadata": {},
   "source": [
    "#### Most common words:"
   ]
  },
  {
   "cell_type": "code",
   "execution_count": null,
   "metadata": {},
   "outputs": [],
   "source": [
    "# POSITIVE SENTIMENT\n",
    "text = \" \".join(i for i in combined_sentiment_df[combined_sentiment_df['sentiment_label']==1]['text'])\n",
    "wordcloud = WordCloud(background_color=\"white\").generate(text)\n",
    "\n",
    "plt.figure(figsize=(15,10))\n",
    "plt.imshow(wordcloud, interpolation='bilinear')\n",
    "plt.axis(\"off\")\n",
    "plt.title('Wordcloud for positive reviews')\n",
    "plt.show()"
   ]
  },
  {
   "cell_type": "code",
   "execution_count": null,
   "metadata": {},
   "outputs": [],
   "source": [
    "# NEGATIVE SENTIMENT\n",
    "text = \" \".join(i for i in combined_sentiment_df[combined_sentiment_df['sentiment_label']==0]['text'])\n",
    "wordcloud = WordCloud( background_color=\"white\").generate(text)\n",
    "\n",
    "plt.figure( figsize=(15,10))\n",
    "plt.imshow(wordcloud, interpolation='bilinear')\n",
    "plt.axis(\"off\")\n",
    "plt.title('Wordcloud for negative reviews')\n",
    "plt.show()"
   ]
  },
  {
   "cell_type": "markdown",
   "metadata": {},
   "source": [
    "# 4. Text Preprocessing"
   ]
  },
  {
   "cell_type": "markdown",
   "metadata": {},
   "source": [
    "### - Training Dataset"
   ]
  },
  {
   "cell_type": "code",
   "execution_count": null,
   "metadata": {},
   "outputs": [],
   "source": [
    "# Preprocessing + Lemmatization \n",
    "combined_sentiment_df['clean_text'] = combined_sentiment_df['text'].apply(lambda x: text_preprocess(x, remove_digits=True, stemmer=Stemmer.WordNet))"
   ]
  },
  {
   "cell_type": "code",
   "execution_count": null,
   "metadata": {},
   "outputs": [],
   "source": [
    "# Tokenization\n",
    "combined_sentiment_df['tokenized_text'] = combined_sentiment_df['clean_text'].apply(lambda x: word_tokenize(x))\n",
    "combined_sentiment_df.head(5)"
   ]
  },
  {
   "cell_type": "code",
   "execution_count": null,
   "metadata": {},
   "outputs": [],
   "source": [
    "# Save preprocessed training data\n",
    "combined_sentiment_df.to_csv('data_sentiment_preprocessed.csv', index=False)"
   ]
  },
  {
   "cell_type": "markdown",
   "metadata": {},
   "source": [
    "### - Validation Dataset"
   ]
  },
  {
   "cell_type": "code",
   "execution_count": null,
   "metadata": {},
   "outputs": [],
   "source": [
    "# Preprocessing + Lemmatization \n",
    "combined_sentiment_df_val['clean_text'] = combined_sentiment_df_val['text'].apply(lambda x: text_preprocess(x, remove_digits=True, stemmer=Stemmer.WordNet))\n",
    "# Tokenization\n",
    "combined_sentiment_df_val['tokenized_text'] = combined_sentiment_df_val['clean_text'].apply(lambda x: word_tokenize(x))\n",
    "combined_sentiment_df_val.head(5)\n",
    "# Save preprocessed validation data\n",
    "combined_sentiment_df_val.to_csv('data_sentiment_preprocessed_val.csv', index=False)"
   ]
  },
  {
   "cell_type": "markdown",
   "metadata": {},
   "source": [
    "# YOU CAN START FROM THIS POINT GUYS!!!!!!!!!!!!!!!"
   ]
  },
  {
   "cell_type": "code",
   "execution_count": 3,
   "metadata": {
    "ExecuteTime": {
     "end_time": "2025-03-28T01:18:18.744734Z",
     "start_time": "2025-03-28T01:18:18.561606Z"
    }
   },
   "outputs": [],
   "source": [
    "# Optional, when already have necessary data files\n",
    "combined_sentiment_df = pd.read_csv('data_sentiment_preprocessed.csv')\n",
    "combined_sentiment_df_val = pd.read_csv('data_sentiment_preprocessed_val.csv')"
   ]
  },
  {
   "cell_type": "markdown",
   "metadata": {},
   "source": [
    "#### Handling Missing Values:"
   ]
  },
  {
   "cell_type": "code",
   "execution_count": 6,
   "metadata": {
    "ExecuteTime": {
     "end_time": "2025-03-28T01:18:20.641022Z",
     "start_time": "2025-03-28T01:18:20.615452Z"
    }
   },
   "outputs": [
    {
     "name": "stdout",
     "output_type": "stream",
     "text": [
      "id     text   sentiment_label  clean_text  tokenized_text\n",
      "False  False  False            False       False             8860\n",
      "                               True        False                6\n",
      "Name: count, dtype: int64\n"
     ]
    }
   ],
   "source": [
    "print(combined_sentiment_df.isnull().value_counts())\n",
    "combined_sentiment_df = combined_sentiment_df.dropna() # Drop rows where preprocessing didnt extract any tokens"
   ]
  },
  {
   "cell_type": "code",
   "execution_count": 8,
   "metadata": {
    "ExecuteTime": {
     "end_time": "2025-03-28T01:18:21.477582Z",
     "start_time": "2025-03-28T01:18:21.461624Z"
    }
   },
   "outputs": [
    {
     "name": "stdout",
     "output_type": "stream",
     "text": [
      "id     text   sentiment_label  clean_text  tokenized_text\n",
      "False  False  False            False       False             1211\n",
      "                               True        False                1\n",
      "Name: count, dtype: int64\n"
     ]
    }
   ],
   "source": [
    "print(combined_sentiment_df_val.isnull().value_counts())\n",
    "combined_sentiment_df_val = combined_sentiment_df_val.dropna()"
   ]
  },
  {
   "cell_type": "code",
   "execution_count": 10,
   "metadata": {
    "ExecuteTime": {
     "end_time": "2025-03-28T01:18:24.399435Z",
     "start_time": "2025-03-28T01:18:22.159154Z"
    }
   },
   "outputs": [
    {
     "data": {
      "text/html": [
       "<div>\n",
       "<style scoped>\n",
       "    .dataframe tbody tr th:only-of-type {\n",
       "        vertical-align: middle;\n",
       "    }\n",
       "\n",
       "    .dataframe tbody tr th {\n",
       "        vertical-align: top;\n",
       "    }\n",
       "\n",
       "    .dataframe thead th {\n",
       "        text-align: right;\n",
       "    }\n",
       "</style>\n",
       "<table border=\"1\" class=\"dataframe\">\n",
       "  <thead>\n",
       "    <tr style=\"text-align: right;\">\n",
       "      <th></th>\n",
       "      <th>id</th>\n",
       "      <th>text</th>\n",
       "      <th>sentiment_label</th>\n",
       "      <th>clean_text</th>\n",
       "      <th>tokenized_text</th>\n",
       "    </tr>\n",
       "  </thead>\n",
       "  <tbody>\n",
       "    <tr>\n",
       "      <th>0</th>\n",
       "      <td>1cimjpr</td>\n",
       "      <td>So instead of making savings, they continued t...</td>\n",
       "      <td>0</td>\n",
       "      <td>instead make saving continue spend money not y...</td>\n",
       "      <td>[instead, make, saving, continue, spend, money...</td>\n",
       "    </tr>\n",
       "    <tr>\n",
       "      <th>1</th>\n",
       "      <td>1d35qlg</td>\n",
       "      <td>Needless story to have dragged into the electi...</td>\n",
       "      <td>0</td>\n",
       "      <td>needless story drag election party rumor sit m...</td>\n",
       "      <td>[needless, story, drag, election, party, rumor...</td>\n",
       "    </tr>\n",
       "    <tr>\n",
       "      <th>2</th>\n",
       "      <td>1d3i3mt</td>\n",
       "      <td>Now, in an ideal world there would be insight ...</td>\n",
       "      <td>0</td>\n",
       "      <td>ideal world would insight mr james day think i...</td>\n",
       "      <td>[ideal, world, would, insight, mr, james, day,...</td>\n",
       "    </tr>\n",
       "    <tr>\n",
       "      <th>3</th>\n",
       "      <td>1d5a8wa</td>\n",
       "      <td>How did you not get mind controlled at birth t...</td>\n",
       "      <td>0</td>\n",
       "      <td>not get mind control birth though one free thi...</td>\n",
       "      <td>[not, get, mind, control, birth, though, one, ...</td>\n",
       "    </tr>\n",
       "    <tr>\n",
       "      <th>4</th>\n",
       "      <td>1d5l3e9</td>\n",
       "      <td>Talk lately of conscription, having a store of...</td>\n",
       "      <td>0</td>\n",
       "      <td>talk lately conscription store food water drug...</td>\n",
       "      <td>[talk, lately, conscription, store, food, wate...</td>\n",
       "    </tr>\n",
       "  </tbody>\n",
       "</table>\n",
       "</div>"
      ],
      "text/plain": [
       "        id                                               text  \\\n",
       "0  1cimjpr  So instead of making savings, they continued t...   \n",
       "1  1d35qlg  Needless story to have dragged into the electi...   \n",
       "2  1d3i3mt  Now, in an ideal world there would be insight ...   \n",
       "3  1d5a8wa  How did you not get mind controlled at birth t...   \n",
       "4  1d5l3e9  Talk lately of conscription, having a store of...   \n",
       "\n",
       "   sentiment_label                                         clean_text  \\\n",
       "0                0  instead make saving continue spend money not y...   \n",
       "1                0  needless story drag election party rumor sit m...   \n",
       "2                0  ideal world would insight mr james day think i...   \n",
       "3                0  not get mind control birth though one free thi...   \n",
       "4                0  talk lately conscription store food water drug...   \n",
       "\n",
       "                                      tokenized_text  \n",
       "0  [instead, make, saving, continue, spend, money...  \n",
       "1  [needless, story, drag, election, party, rumor...  \n",
       "2  [ideal, world, would, insight, mr, james, day,...  \n",
       "3  [not, get, mind, control, birth, though, one, ...  \n",
       "4  [talk, lately, conscription, store, food, wate...  "
      ]
     },
     "execution_count": 10,
     "metadata": {},
     "output_type": "execute_result"
    }
   ],
   "source": [
    "# Tokenization because after reading from the file list with tokens converts into str\n",
    "combined_sentiment_df['tokenized_text'] = combined_sentiment_df['clean_text'].apply(lambda x: word_tokenize(x))\n",
    "combined_sentiment_df_val['tokenized_text'] = combined_sentiment_df_val['clean_text'].apply(lambda x: word_tokenize(x))\n",
    "combined_sentiment_df.head(5)"
   ]
  },
  {
   "cell_type": "code",
   "execution_count": 11,
   "metadata": {
    "ExecuteTime": {
     "end_time": "2025-03-28T01:18:25.041841Z",
     "start_time": "2025-03-28T01:18:24.472500Z"
    }
   },
   "outputs": [
    {
     "data": {
      "image/png": "[encoded data removed]",
      "text/plain": [
       "<Figure size 500x500 with 1 Axes>"
      ]
     },
     "metadata": {},
     "output_type": "display_data"
    }
   ],
   "source": [
    "# Check number of unique words before and after the preprocessing\n",
    "all_words = ' '.join(combined_sentiment_df['text']).split()\n",
    "unique_words = set(all_words)\n",
    "\n",
    "all_words_clean = ' '.join(combined_sentiment_df['clean_text']).split()\n",
    "unique_words_clean = set(all_words_clean)\n",
    "\n",
    "labels = ['Unique Words in Raw Text', 'Unique Words in Cleaned Text']\n",
    "sizes = [len(unique_words), len(unique_words_clean)]\n",
    "\n",
    "plt.figure(figsize=(5, 5))\n",
    "plt.pie(sizes, labels=labels, autopct=lambda p: f'{int(p * sum(sizes) / 100)}', startangle=90, colors = ['#FF6347', 'skyblue'])\n",
    "plt.title('Comparison of Unique Words in Raw vs Cleaned Text')\n",
    "plt.axis('equal')\n",
    "plt.show()"
   ]
  },
  {
   "cell_type": "markdown",
   "metadata": {},
   "source": [
    "# 5. Features Extraction"
   ]
  },
  {
   "cell_type": "code",
   "execution_count": 15,
   "metadata": {
    "ExecuteTime": {
     "end_time": "2025-03-28T01:18:25.231244Z",
     "start_time": "2025-03-28T01:18:25.219552Z"
    }
   },
   "outputs": [],
   "source": [
    "# Split the data\n",
    "X_train = combined_sentiment_df.tokenized_text\n",
    "y_train = combined_sentiment_df.sentiment_label\n",
    "X_val = combined_sentiment_df_val.tokenized_text\n",
    "y_val = combined_sentiment_df_val.sentiment_label"
   ]
  },
  {
   "cell_type": "markdown",
   "metadata": {},
   "source": [
    "## 5.1 Basic BoW\n",
    "+ removing words that occurs less than 3 times"
   ]
  },
  {
   "cell_type": "code",
   "execution_count": 626,
   "metadata": {
    "ExecuteTime": {
     "end_time": "2025-03-28T01:20:03.400062Z",
     "start_time": "2025-03-28T01:20:01.894048Z"
    }
   },
   "outputs": [
    {
     "name": "stdout",
     "output_type": "stream",
     "text": [
      "Shape (X_train_vec):  (8860, 13942)\n",
      "Shape (X_train_vec) after reduction:  (8860, 8068)\n",
      "Shape (X_val_vec):  (1211, 8068)\n"
     ]
    }
   ],
   "source": [
    "# Convert X_train and X_val into proper type\n",
    "X_train_str = [' '.join(tokens) for tokens in combined_sentiment_df.tokenized_text]\n",
    "\n",
    "X_val_str = [' '.join(tokens) for tokens in combined_sentiment_df_val.tokenized_text]\n",
    "\n",
    "word_counts, vocab, selected_words, vectorizer, X_train_vec, X_val_vec = basic_bag(X_train_str, X_val_str, debug=True, min_refs=2)"
   ]
  },
  {
   "cell_type": "code",
   "execution_count": 28,
   "metadata": {
    "ExecuteTime": {
     "end_time": "2025-03-27T16:47:39.873428Z",
     "start_time": "2025-03-27T16:47:39.849228Z"
    }
   },
   "outputs": [
    {
     "name": "stdout",
     "output_type": "stream",
     "text": [
      "Top 10 most common words:\n",
      "\n",
      "not: 4523\n",
      "good: 3415\n",
      "food: 2608\n",
      "get: 1843\n",
      "go: 1610\n",
      "place: 1569\n",
      "like: 1549\n",
      "would: 1527\n",
      "time: 1374\n",
      "one: 1363\n"
     ]
    }
   ],
   "source": [
    "# 10 most common words\n",
    "word_counts = np.asarray(X_train_vec.sum(axis=0)).flatten()\n",
    "vocab = np.array(vectorizer.get_feature_names_out())\n",
    "\n",
    "top_indices = np.argsort(word_counts)[::-1]\n",
    "top_words = vocab[top_indices[:10]]\n",
    "top_counts = word_counts[top_indices[:10]]\n",
    "\n",
    "print('Top 10 most common words:\\n')\n",
    "for word, count in zip(top_words, top_counts):\n",
    "    print(f\"{word}: {count}\")"
   ]
  },
  {
   "cell_type": "code",
   "execution_count": 30,
   "metadata": {
    "ExecuteTime": {
     "end_time": "2025-03-27T16:31:09.525846Z",
     "start_time": "2025-03-27T16:31:09.515524Z"
    }
   },
   "outputs": [
    {
     "name": "stdout",
     "output_type": "stream",
     "text": [
      "Unique values: [0 1 2]\n"
     ]
    }
   ],
   "source": [
    "# Just values test\n",
    "unique = np.unique(X_train_vec[2].toarray())\n",
    "print('Unique values:', unique)"
   ]
  },
  {
   "cell_type": "code",
   "execution_count": 32,
   "metadata": {
    "ExecuteTime": {
     "end_time": "2025-03-28T01:18:39.284976Z",
     "start_time": "2025-03-28T01:18:38.560844Z"
    }
   },
   "outputs": [
    {
     "name": "stdout",
     "output_type": "stream",
     "text": [
      "Shape (X_train_vec):  (8860, 13942)\n",
      "Shape (X_val_vec):  (1211, 13942)\n"
     ]
    }
   ],
   "source": [
    "# Convert X_train and X_val into proper type\n",
    "X_train_str = [' '.join(tokens) for tokens in combined_sentiment_df.tokenized_text]\n",
    "\n",
    "X_val_str = [' '.join(tokens) for tokens in combined_sentiment_df_val.tokenized_text]\n",
    "\n",
    "word_counts, vocab, selected_words, vectorizer, X_train_vec, X_val_vec = basic_bag(X_train_str, X_val_str, debug=True)"
   ]
  },
  {
   "cell_type": "markdown",
   "metadata": {},
   "source": [
    "## 5.2 1-hot BoW\n",
    "+ removing words that occurs less than 3 times"
   ]
  },
  {
   "cell_type": "code",
   "execution_count": 34,
   "metadata": {
    "ExecuteTime": {
     "end_time": "2025-03-28T03:23:27.297780Z",
     "start_time": "2025-03-28T03:23:25.983981Z"
    }
   },
   "outputs": [
    {
     "name": "stdout",
     "output_type": "stream",
     "text": [
      "Shape (X_train_vec):  (8860, 13942)\n",
      "Shape (X_train_vec) after reduction:  (8860, 8068)\n",
      "Shape (X_val_vec):  (1211, 8068)\n"
     ]
    }
   ],
   "source": [
    "word_counts, vocab, selected_words, vectorizer, X_train_hot, X_val_hot = basic_bag(X_train_str, X_val_str, min_refs=2, ohe=True, debug=True)"
   ]
  },
  {
   "cell_type": "code",
   "execution_count": 36,
   "metadata": {
    "ExecuteTime": {
     "end_time": "2025-03-27T16:31:18.690539Z",
     "start_time": "2025-03-27T16:31:14.918180Z"
    }
   },
   "outputs": [
    {
     "name": "stdout",
     "output_type": "stream",
     "text": [
      "Unique values: [0 1]\n"
     ]
    }
   ],
   "source": [
    "# Checking if dataset is binary\n",
    "unique = np.unique(X_train_hot.toarray())\n",
    "print('Unique values:', unique)"
   ]
  },
  {
   "cell_type": "markdown",
   "metadata": {},
   "source": [
    "## 5.3 TF-IDF"
   ]
  },
  {
   "cell_type": "code",
   "execution_count": 38,
   "metadata": {
    "ExecuteTime": {
     "end_time": "2025-03-28T02:08:31.549717Z",
     "start_time": "2025-03-28T02:08:30.711281Z"
    }
   },
   "outputs": [
    {
     "name": "stdout",
     "output_type": "stream",
     "text": [
      "Shape (X_train_vec):  (8860, 13942)\n",
      "Shape (X_train_vec) after reduction:  (8860, 8068)\n",
      "Shape (X_val_vec):  (1211, 8068)\n"
     ]
    }
   ],
   "source": [
    "word_counts, vocab, selected_words, vectorizer, X_train_vec_tf, X_val_vec_tf = tf_idf(X_train_str, X_val_str, debug=True, min_refs=2)"
   ]
  },
  {
   "cell_type": "markdown",
   "metadata": {},
   "source": [
    "## 5.4 N-grams"
   ]
  },
  {
   "cell_type": "markdown",
   "metadata": {},
   "source": [
    "### 5.4.1 Bigrams Count"
   ]
  },
  {
   "cell_type": "code",
   "execution_count": 18,
   "metadata": {
    "ExecuteTime": {
     "end_time": "2025-03-28T01:21:00.930768Z",
     "start_time": "2025-03-28T01:20:58.532038Z"
    }
   },
   "outputs": [
    {
     "name": "stdout",
     "output_type": "stream",
     "text": [
      "Shape (X_train_vec):  (8860, 161809)\n",
      "Shape (X_val_vec):  (1211, 161809)\n"
     ]
    }
   ],
   "source": [
    "word_counts, vocab, selected_words, vectorizer, X_train_vec_bi, X_val_vec_bi = basic_bag(X_train_str, X_val_str, ngram_range=(2,2), debug=True, ohe=True)"
   ]
  },
  {
   "cell_type": "code",
   "execution_count": 35,
   "metadata": {
    "ExecuteTime": {
     "end_time": "2025-03-27T17:55:46.920370Z",
     "start_time": "2025-03-27T17:55:46.877822Z"
    }
   },
   "outputs": [
    {
     "name": "stdout",
     "output_type": "stream",
     "text": [
      "10 most common bigrams:\n",
      "\n",
      "food good: 193\n",
      "staff friendly: 160\n",
      "not good: 138\n",
      "good place: 125\n",
      "good food: 120\n",
      "taste good: 118\n",
      "really good: 117\n",
      "look like: 114\n",
      "service good: 108\n",
      "friendly staff: 106\n"
     ]
    }
   ],
   "source": [
    "bigram_vocab = vectorizer.get_feature_names_out()\n",
    "bigram_counts = np.asarray(X_train_vec_bi.sum(axis=0)).flatten()\n",
    "\n",
    "bigram_freq = list(zip(bigram_vocab, bigram_counts))\n",
    "\n",
    "# Sorting\n",
    "sorted_bigram_freq = sorted(bigram_freq, key=lambda x: x[1], reverse=True)\n",
    "print(\"10 most common bigrams:\\n\")\n",
    "for bigram, count in sorted_bigram_freq[:10]:\n",
    "    print(f\"{bigram}: {count}\")"
   ]
  },
  {
   "cell_type": "markdown",
   "metadata": {
    "jp-MarkdownHeadingCollapsed": true
   },
   "source": [
    "### 5.4.2 Bigrams TF-IDF"
   ]
  },
  {
   "cell_type": "code",
   "execution_count": 23,
   "metadata": {
    "ExecuteTime": {
     "end_time": "2025-03-28T01:22:49.135751Z",
     "start_time": "2025-03-28T01:22:47.176335Z"
    }
   },
   "outputs": [
    {
     "name": "stdout",
     "output_type": "stream",
     "text": [
      "Shape (X_train_vec):  (8860, 161809)\n",
      "Shape (X_train_vec) after reduction:  (8860, 22912)\n",
      "Shape (X_val_vec):  (1211, 22912)\n"
     ]
    }
   ],
   "source": [
    "word_counts, vocab, selected_words, vectorizer, X_train_vec_bi_tf, X_val_vec_bi_tf = tf_idf(X_train_str, X_val_str, ngram_range=(2, 2) , min_refs=2, debug=True)"
   ]
  },
  {
   "cell_type": "markdown",
   "metadata": {},
   "source": [
    "## 5.5 Words Embedding"
   ]
  },
  {
   "cell_type": "markdown",
   "metadata": {},
   "source": [
    "### Word2Vec"
   ]
  },
  {
   "cell_type": "markdown",
   "metadata": {},
   "source": [
    "#### - Own Word2Vec Model (CBOW)"
   ]
  },
  {
   "cell_type": "code",
   "execution_count": 59,
   "metadata": {},
   "outputs": [],
   "source": [
    "word2vec_model1 = w2v_embeddings(X_train, alpha=0.05, vector_size=300, window=10, epochs=20, min_count=2)"
   ]
  },
  {
   "cell_type": "code",
   "execution_count": 61,
   "metadata": {},
   "outputs": [
    {
     "name": "stdout",
     "output_type": "stream",
     "text": [
      "Similarity: 0.8344\n",
      "Most similar words: [('actress', 0.9955834150314331), ('dakota', 0.9949900507926941), ('mesh', 0.9949254989624023), ('goodby', 0.994763970375061), ('balanced', 0.9944737553596497)]\n",
      "Not matching word: juice\n",
      "Analogy result: [('indian', 0.9518129825592041)]\n"
     ]
    }
   ],
   "source": [
    "# Similarity between tokens\n",
    "try:\n",
    "    similarity_tokens = word2vec_model1.wv.similarity('cat', 'dog')\n",
    "    print(f\"Similarity: {similarity_tokens:.4f}\")\n",
    "except KeyError as e:\n",
    "    print(f\"KeyError: {e}\")\n",
    "\n",
    "# Most similar words to the specific token\n",
    "try:\n",
    "    similar_words_token = word2vec_model1.wv.most_similar('cat', topn=5)\n",
    "    print(\"Most similar words:\", similar_words_token)\n",
    "except KeyError as e:\n",
    "    print(f\"KeyError: {e}\")\n",
    "\n",
    "# Token which doesn't match (Odd-One-Out)\n",
    "try: \n",
    "    not_match_token = word2vec_model1.wv.doesnt_match(['cat','dog','juice'])\n",
    "    print('Not matching word:', not_match_token)\n",
    "except KeyError as e:\n",
    "    print(f\"KeyError: {e}\")\n",
    "\n",
    "# Perform an analogy task\n",
    "try:\n",
    "    analogy_result = word2vec_model1.wv.most_similar(positive=['king', 'woman'], negative=['man'], topn=1)\n",
    "    print(\"Analogy result:\", analogy_result)\n",
    "except KeyError as e:\n",
    "    print(f\"KeyError: {e}\")"
   ]
  },
  {
   "cell_type": "code",
   "execution_count": 63,
   "metadata": {},
   "outputs": [
    {
     "name": "stdout",
     "output_type": "stream",
     "text": [
      "Number of unique words in the Word2vec Model: 8130\n"
     ]
    }
   ],
   "source": [
    "print('Number of unique words in the Word2vec Model:',len(word2vec_model1.wv.key_to_index))"
   ]
  },
  {
   "cell_type": "code",
   "execution_count": 65,
   "metadata": {},
   "outputs": [
    {
     "data": {
      "image/png": "[encoded data removed]",
      "text/plain": [
       "<Figure size 1000x800 with 1 Axes>"
      ]
     },
     "metadata": {},
     "output_type": "display_data"
    }
   ],
   "source": [
    "# Visualization\n",
    "# List of words that we want to display\n",
    "words_to_explore= ['woman', 'man', 'queen', 'king', 'human', 'person', 'girl', 'child', 'boy', 'salad', 'lettuce', 'tomato', 'soup', 'turnip', 'arugula', 'pepper', 'greens', 'barley', 'bean', 'stew', 'carrot']\n",
    "visualize_word_embeddings(word2vec_model1, words_to_explore)"
   ]
  },
  {
   "cell_type": "code",
   "execution_count": 67,
   "metadata": {},
   "outputs": [],
   "source": [
    "# Generate embeddings\n",
    "X_train_vec_w2v, X_val_vec_w2v = w2v_embeddings_split(X_train, X_val, word2vec_model1)"
   ]
  },
  {
   "cell_type": "code",
   "execution_count": 71,
   "metadata": {},
   "outputs": [
    {
     "name": "stdout",
     "output_type": "stream",
     "text": [
      "0.8067712634186622\n",
      "              precision    recall  f1-score   support\n",
      "\n",
      "           0       0.79      0.83      0.81       611\n",
      "           1       0.82      0.78      0.80       600\n",
      "\n",
      "    accuracy                           0.81      1211\n",
      "   macro avg       0.81      0.81      0.81      1211\n",
      "weighted avg       0.81      0.81      0.81      1211\n",
      "\n"
     ]
    }
   ],
   "source": [
    "# TEST ONLY\n",
    "model = SVC()\n",
    "model.fit(X_train_vec_w2v, y_train)\n",
    "y_pred = model.predict(X_val_vec_w2v)\n",
    "\n",
    "print(accuracy_score(y_val, y_pred))\n",
    "print(classification_report(y_val, y_pred))"
   ]
  },
  {
   "cell_type": "markdown",
   "metadata": {},
   "source": [
    "#### - Own Word2Vec Model (Skip Gram)"
   ]
  },
  {
   "cell_type": "code",
   "execution_count": 35,
   "metadata": {},
   "outputs": [],
   "source": [
    "word2vec_model2 = w2v_embeddings(X_train, sg=True, alpha=0.05, vector_size=300, window=5, epochs=50, min_count=2)"
   ]
  },
  {
   "cell_type": "code",
   "execution_count": 36,
   "metadata": {},
   "outputs": [
    {
     "name": "stdout",
     "output_type": "stream",
     "text": [
      "Similarity: 0.6531\n",
      "Most similar words: [('drinking', 0.772953450679779), ('pet', 0.7704237103462219), ('cigar', 0.769462525844574), ('soothe', 0.7648403644561768), ('fountain', 0.7639871835708618), ('refresh', 0.7617489099502563), ('rider', 0.7597284913063049), ('basket', 0.7571843266487122), ('mixture', 0.7553753852844238), ('bartender', 0.754408597946167)]\n",
      "Not matching word: wine\n",
      "Analogy result: [('kingdom', 0.697913408279419)]\n"
     ]
    }
   ],
   "source": [
    "# Similarity between tokens\n",
    "try:\n",
    "    similarity_tokens = word2vec_model2.wv.similarity('cat', 'dog')\n",
    "    print(f\"Similarity: {similarity_tokens:.4f}\")\n",
    "except KeyError as e:\n",
    "    print(f\"KeyError: {e}\")\n",
    "\n",
    "# Most similar words to the specific token\n",
    "try:\n",
    "    similar_words_token = word2vec_model2.wv.most_similar('dog', topn=10)\n",
    "    print(\"Most similar words:\", similar_words_token)\n",
    "except KeyError as e:\n",
    "    print(f\"KeyError: {e}\")\n",
    "\n",
    "# Token which doesn't match (Odd-One-Out)\n",
    "try: \n",
    "    not_match_token = word2vec_model2.wv.doesnt_match(['cat','dog','wine'])\n",
    "    print('Not matching word:', not_match_token)\n",
    "except KeyError as e:\n",
    "    print(f\"KeyError: {e}\")\n",
    "\n",
    "# Perform an analogy task\n",
    "try:\n",
    "    analogy_result = word2vec_model2.wv.most_similar(positive=['king', 'woman'], negative=['man'], topn=1)\n",
    "    print(\"Analogy result:\", analogy_result)\n",
    "except KeyError as e:\n",
    "    print(f\"KeyError: {e}\")"
   ]
  },
  {
   "cell_type": "code",
   "execution_count": 37,
   "metadata": {},
   "outputs": [
    {
     "data": {
      "image/png": "[encoded data removed]",
      "text/plain": [
       "<Figure size 1000x800 with 1 Axes>"
      ]
     },
     "metadata": {},
     "output_type": "display_data"
    }
   ],
   "source": [
    "# Visualization\n",
    "# List of words that we want to display\n",
    "words_to_explore= ['woman', 'man', 'queen', 'king', 'person', 'girl', 'child', 'boy', 'salad', 'lettuce', 'turnip', 'arugula', 'pepper', 'greens', 'bean', 'stew', 'carrot','tomato', 'soup', 'cat', 'dog', 'hamster']\n",
    "visualize_word_embeddings(word2vec_model2, words_to_explore)"
   ]
  },
  {
   "cell_type": "code",
   "execution_count": null,
   "metadata": {},
   "outputs": [],
   "source": [
    "# Generate embeddings\n",
    "X_train_vec_w2v, X_val_vec_w2v = w2v_embeddings_split(X_train, X_val, word2vec_model1)"
   ]
  },
  {
   "cell_type": "markdown",
   "metadata": {},
   "source": [
    "### Bert Embeddings"
   ]
  },
  {
   "cell_type": "code",
   "execution_count": null,
   "metadata": {},
   "outputs": [],
   "source": [
    "# Split the data\n",
    "X_train = combined_sentiment_df.text.astype(str).tolist()\n",
    "y_train = combined_sentiment_df.sentiment_label\n",
    "X_val = combined_sentiment_df_val.text.astype(str).tolist()\n",
    "y_val = combined_sentiment_df_val.sentiment_label\n",
    "\n",
    "# Generate embeddings\n",
    "X_train_vec, X_val_vec = bert_embeddings_split(X_train, X_val)"
   ]
  },
  {
   "cell_type": "markdown",
   "metadata": {},
   "source": [
    "# 6. Feature Selection"
   ]
  },
  {
   "cell_type": "code",
   "execution_count": null,
   "metadata": {},
   "outputs": [],
   "source": [
    "combined_sentiment_df = pd.read_csv(\"data_sentiment_preprocessed.csv\")\n",
    "combined_sentiment_df_val = pd.read_csv(\"data_sentiment_preprocessed_val.csv\")\n",
    "\n",
    "from our_feature_extraction import basic_bag, tf_idf\n",
    "# Split the data\n",
    "X_train = combined_sentiment_df.tokenized_text\n",
    "y_train = combined_sentiment_df.sentiment_label\n",
    "X_val = combined_sentiment_df_val.tokenized_text\n",
    "y_val = combined_sentiment_df_val.sentiment_label\n",
    "word_counts, vocab, selected_words, vectorizer, X_train_vec, X_val_vec = basic_bag(X_train, X_val, ohe=True, debug=True)"
   ]
  },
  {
   "cell_type": "code",
   "execution_count": 20,
   "metadata": {
    "ExecuteTime": {
     "end_time": "2025-03-27T17:03:57.997052Z",
     "start_time": "2025-03-27T17:03:57.881632Z"
    }
   },
   "outputs": [
    {
     "name": "stdout",
     "output_type": "stream",
     "text": [
      "(8860, 8068)\n",
      "(8860, 807)\n"
     ]
    }
   ],
   "source": [
    "from our_feature_selection import *\n",
    "\n",
    "print(X_train_vec.shape)\n",
    "sel, X_train_redux, X_test_redux = feat_filtering(X_train_vec, y_train, X_val_vec)\n",
    "print(X_train_redux.shape)"
   ]
  },
  {
   "cell_type": "code",
   "execution_count": null,
   "metadata": {},
   "outputs": [],
   "source": [
    "sel, X_train_rfe, X_test_rfe = rfe(X_train_vec, y_train, X_val_vec)\n",
    "print(X_train_rfe.shape)"
   ]
  },
  {
   "cell_type": "code",
   "execution_count": null,
   "metadata": {},
   "outputs": [],
   "source": [
    "nb(X_train_vec, X_val_vec, y_train, y_val)"
   ]
  },
  {
   "cell_type": "code",
   "execution_count": null,
   "metadata": {},
   "outputs": [],
   "source": [
    "nb(X_train_rfe, X_test_rfe, y_train, y_val)"
   ]
  },
  {
   "cell_type": "code",
   "execution_count": null,
   "metadata": {},
   "outputs": [],
   "source": [
    "nb(X_train_redux, X_test_redux, y_train, y_val)"
   ]
  },
  {
   "cell_type": "markdown",
   "metadata": {},
   "source": [
    "# 7. Modeling"
   ]
  },
  {
   "cell_type": "markdown",
   "metadata": {
    "jp-MarkdownHeadingCollapsed": true
   },
   "source": [
    "## 7.1 Naive Bayes Model"
   ]
  },
  {
   "cell_type": "markdown",
   "metadata": {},
   "source": [
    "### - Basic BoW"
   ]
  },
  {
   "cell_type": "code",
   "execution_count": null,
   "metadata": {},
   "outputs": [],
   "source": [
    "# Basic BoW\n",
    "nb(X_train_vec, X_val_vec, y_train, y_val)"
   ]
  },
  {
   "cell_type": "code",
   "execution_count": 16,
   "metadata": {
    "ExecuteTime": {
     "end_time": "2025-03-28T01:20:21.137819Z",
     "start_time": "2025-03-28T01:20:21.015083Z"
    }
   },
   "outputs": [
    {
     "name": "stdout",
     "output_type": "stream",
     "text": [
      "(8860, 13942)\n",
      "(8860, 1394)\n"
     ]
    }
   ],
   "source": [
    "# Featres Selection Chi2\n",
    "print(X_train_vec.shape)\n",
    "sel, X_train_redux, X_test_redux = feat_filtering(X_train_vec, y_train, X_val_vec)\n",
    "print(X_train_redux.shape)"
   ]
  },
  {
   "cell_type": "code",
   "execution_count": 17,
   "metadata": {
    "ExecuteTime": {
     "end_time": "2025-03-28T01:20:22.097855Z",
     "start_time": "2025-03-28T01:20:22.058277Z"
    }
   },
   "outputs": [
    {
     "name": "stdout",
     "output_type": "stream",
     "text": [
      "Accuracy: 0.8134\n",
      "\n",
      "Classification Report:\n",
      "              precision    recall  f1-score   support\n",
      "\n",
      "           0       0.83      0.80      0.81       611\n",
      "           1       0.80      0.83      0.82       600\n",
      "\n",
      "    accuracy                           0.81      1211\n",
      "   macro avg       0.81      0.81      0.81      1211\n",
      "weighted avg       0.81      0.81      0.81      1211\n",
      "\n",
      "\n",
      "Confusion Matrix:\n",
      "[[486 125]\n",
      " [101 499]]\n"
     ]
    }
   ],
   "source": [
    "nb(X_train_redux, X_test_redux, y_train, y_val)"
   ]
  },
  {
   "cell_type": "markdown",
   "metadata": {},
   "source": [
    "### - 1-hot BoW"
   ]
  },
  {
   "cell_type": "code",
   "execution_count": 54,
   "metadata": {
    "ExecuteTime": {
     "end_time": "2025-03-28T00:41:21.071006Z",
     "start_time": "2025-03-28T00:41:21.034317Z"
    }
   },
   "outputs": [
    {
     "name": "stdout",
     "output_type": "stream",
     "text": [
      "Accuracy: 0.8084\n",
      "\n",
      "Classification Report:\n",
      "              precision    recall  f1-score   support\n",
      "\n",
      "           0       0.83      0.77      0.80       611\n",
      "           1       0.79      0.84      0.81       600\n",
      "\n",
      "    accuracy                           0.81      1211\n",
      "   macro avg       0.81      0.81      0.81      1211\n",
      "weighted avg       0.81      0.81      0.81      1211\n",
      "\n",
      "\n",
      "Confusion Matrix:\n",
      "[[473 138]\n",
      " [ 94 506]]\n"
     ]
    }
   ],
   "source": [
    "nb(X_train_hot, X_val_hot, y_train, y_val)"
   ]
  },
  {
   "cell_type": "code",
   "execution_count": 55,
   "metadata": {
    "ExecuteTime": {
     "end_time": "2025-03-28T00:41:30.709063Z",
     "start_time": "2025-03-28T00:41:30.671931Z"
    }
   },
   "outputs": [
    {
     "name": "stdout",
     "output_type": "stream",
     "text": [
      "(8860, 8068)\n",
      "(8860, 807)\n"
     ]
    }
   ],
   "source": [
    "# Featres Selection Chi2\n",
    "print(X_train_vec.shape)\n",
    "sel, X_train_redux, X_test_redux = feat_filtering(X_train_hot, y_train, X_val_hot)\n",
    "print(X_train_redux.shape)"
   ]
  },
  {
   "cell_type": "code",
   "execution_count": 56,
   "metadata": {
    "ExecuteTime": {
     "end_time": "2025-03-28T00:41:32.582532Z",
     "start_time": "2025-03-28T00:41:32.546966Z"
    }
   },
   "outputs": [
    {
     "name": "stdout",
     "output_type": "stream",
     "text": [
      "Accuracy: 0.8101\n",
      "\n",
      "Classification Report:\n",
      "              precision    recall  f1-score   support\n",
      "\n",
      "           0       0.82      0.80      0.81       611\n",
      "           1       0.80      0.82      0.81       600\n",
      "\n",
      "    accuracy                           0.81      1211\n",
      "   macro avg       0.81      0.81      0.81      1211\n",
      "weighted avg       0.81      0.81      0.81      1211\n",
      "\n",
      "\n",
      "Confusion Matrix:\n",
      "[[489 122]\n",
      " [108 492]]\n"
     ]
    }
   ],
   "source": [
    "nb(X_train_redux, X_test_redux, y_train, y_val)"
   ]
  },
  {
   "cell_type": "markdown",
   "metadata": {},
   "source": [
    "### - TF-IDF"
   ]
  },
  {
   "cell_type": "code",
   "execution_count": 13,
   "metadata": {
    "ExecuteTime": {
     "end_time": "2025-03-28T01:19:21.596099Z",
     "start_time": "2025-03-28T01:19:21.554496Z"
    }
   },
   "outputs": [
    {
     "name": "stdout",
     "output_type": "stream",
     "text": [
      "Accuracy: 0.8068\n",
      "\n",
      "Classification Report:\n",
      "              precision    recall  f1-score   support\n",
      "\n",
      "           0       0.84      0.76      0.80       611\n",
      "           1       0.78      0.86      0.81       600\n",
      "\n",
      "    accuracy                           0.81      1211\n",
      "   macro avg       0.81      0.81      0.81      1211\n",
      "weighted avg       0.81      0.81      0.81      1211\n",
      "\n",
      "\n",
      "Confusion Matrix:\n",
      "[[462 149]\n",
      " [ 85 515]]\n"
     ]
    }
   ],
   "source": [
    "nb(X_train_vec_tf, X_val_vec_tf, y_train, y_val)"
   ]
  },
  {
   "cell_type": "code",
   "execution_count": 59,
   "metadata": {
    "ExecuteTime": {
     "end_time": "2025-03-28T00:42:32.985982Z",
     "start_time": "2025-03-28T00:42:32.955874Z"
    }
   },
   "outputs": [
    {
     "name": "stdout",
     "output_type": "stream",
     "text": [
      "(8860, 8068)\n",
      "(8860, 807)\n"
     ]
    }
   ],
   "source": [
    "# Featres Selection Chi2\n",
    "print(X_train_vec.shape)\n",
    "sel, X_train_redux, X_test_redux = feat_filtering(X_train_vec_tf, y_train, X_val_vec_tf)\n",
    "print(X_train_redux.shape)"
   ]
  },
  {
   "cell_type": "code",
   "execution_count": 60,
   "metadata": {
    "ExecuteTime": {
     "end_time": "2025-03-28T00:42:35.375512Z",
     "start_time": "2025-03-28T00:42:35.346530Z"
    }
   },
   "outputs": [
    {
     "name": "stdout",
     "output_type": "stream",
     "text": [
      "Accuracy: 0.8092\n",
      "\n",
      "Classification Report:\n",
      "              precision    recall  f1-score   support\n",
      "\n",
      "           0       0.83      0.78      0.81       611\n",
      "           1       0.79      0.83      0.81       600\n",
      "\n",
      "    accuracy                           0.81      1211\n",
      "   macro avg       0.81      0.81      0.81      1211\n",
      "weighted avg       0.81      0.81      0.81      1211\n",
      "\n",
      "\n",
      "Confusion Matrix:\n",
      "[[479 132]\n",
      " [ 99 501]]\n"
     ]
    }
   ],
   "source": [
    " nb(X_train_redux, X_test_redux, y_train, y_val)"
   ]
  },
  {
   "cell_type": "markdown",
   "metadata": {},
   "source": [
    "### - Bigrams Count"
   ]
  },
  {
   "cell_type": "code",
   "execution_count": 19,
   "metadata": {
    "ExecuteTime": {
     "end_time": "2025-03-28T01:21:13.635675Z",
     "start_time": "2025-03-28T01:21:13.585907Z"
    }
   },
   "outputs": [
    {
     "name": "stdout",
     "output_type": "stream",
     "text": [
      "Accuracy: 0.7919\n",
      "\n",
      "Classification Report:\n",
      "              precision    recall  f1-score   support\n",
      "\n",
      "           0       0.81      0.77      0.79       611\n",
      "           1       0.78      0.81      0.80       600\n",
      "\n",
      "    accuracy                           0.79      1211\n",
      "   macro avg       0.79      0.79      0.79      1211\n",
      "weighted avg       0.79      0.79      0.79      1211\n",
      "\n",
      "\n",
      "Confusion Matrix:\n",
      "[[470 141]\n",
      " [111 489]]\n"
     ]
    }
   ],
   "source": [
    "nb(X_train_vec_bi, X_val_vec_bi, y_train, y_val)"
   ]
  },
  {
   "cell_type": "code",
   "execution_count": 77,
   "metadata": {
    "ExecuteTime": {
     "end_time": "2025-03-28T00:46:16.962676Z",
     "start_time": "2025-03-28T00:46:16.856552Z"
    }
   },
   "outputs": [
    {
     "name": "stdout",
     "output_type": "stream",
     "text": [
      "(8860, 8068)\n",
      "(8860, 2291)\n"
     ]
    }
   ],
   "source": [
    "# Featres Selection Chi2\n",
    "print(X_train_vec.shape)\n",
    "sel, X_train_redux, X_test_redux = feat_filtering(X_train_vec_bi, y_train, X_val_vec_bi)\n",
    "print(X_train_redux.shape)"
   ]
  },
  {
   "cell_type": "code",
   "execution_count": 78,
   "metadata": {
    "ExecuteTime": {
     "end_time": "2025-03-28T00:46:17.770183Z",
     "start_time": "2025-03-28T00:46:17.749664Z"
    }
   },
   "outputs": [
    {
     "name": "stdout",
     "output_type": "stream",
     "text": [
      "Accuracy: 0.7845\n",
      "\n",
      "Classification Report:\n",
      "              precision    recall  f1-score   support\n",
      "\n",
      "           0       0.75      0.87      0.80       611\n",
      "           1       0.84      0.70      0.76       600\n",
      "\n",
      "    accuracy                           0.78      1211\n",
      "   macro avg       0.79      0.78      0.78      1211\n",
      "weighted avg       0.79      0.78      0.78      1211\n",
      "\n",
      "\n",
      "Confusion Matrix:\n",
      "[[532  79]\n",
      " [182 418]]\n"
     ]
    }
   ],
   "source": [
    "nb(X_train_redux, X_test_redux, y_train, y_val)"
   ]
  },
  {
   "cell_type": "markdown",
   "metadata": {},
   "source": [
    "### - Bigrams TF-IDF"
   ]
  },
  {
   "cell_type": "code",
   "execution_count": 24,
   "metadata": {
    "ExecuteTime": {
     "end_time": "2025-03-28T01:22:58.947666Z",
     "start_time": "2025-03-28T01:22:58.923453Z"
    }
   },
   "outputs": [
    {
     "name": "stdout",
     "output_type": "stream",
     "text": [
      "Accuracy: 0.7903\n",
      "\n",
      "Classification Report:\n",
      "              precision    recall  f1-score   support\n",
      "\n",
      "           0       0.78      0.81      0.80       611\n",
      "           1       0.80      0.77      0.78       600\n",
      "\n",
      "    accuracy                           0.79      1211\n",
      "   macro avg       0.79      0.79      0.79      1211\n",
      "weighted avg       0.79      0.79      0.79      1211\n",
      "\n",
      "\n",
      "Confusion Matrix:\n",
      "[[496 115]\n",
      " [139 461]]\n"
     ]
    }
   ],
   "source": [
    "nb(X_train_vec_bi_tf, X_val_vec_bi_tf, y_train, y_val)"
   ]
  },
  {
   "cell_type": "code",
   "execution_count": 82,
   "metadata": {
    "ExecuteTime": {
     "end_time": "2025-03-28T00:51:44.434004Z",
     "start_time": "2025-03-28T00:51:44.275691Z"
    }
   },
   "outputs": [
    {
     "name": "stdout",
     "output_type": "stream",
     "text": [
      "(8860, 8068)\n",
      "(8860, 2292)\n"
     ]
    }
   ],
   "source": [
    "# Featres Selection Chi2\n",
    "print(X_train_vec.shape)\n",
    "sel, X_train_redux, X_test_redux = feat_filtering(X_train_vec_bi_tf, y_train, X_val_vec_bi_tf)\n",
    "print(X_train_redux.shape)"
   ]
  },
  {
   "cell_type": "code",
   "execution_count": 83,
   "metadata": {
    "ExecuteTime": {
     "end_time": "2025-03-28T00:52:03.728777Z",
     "start_time": "2025-03-28T00:52:03.683191Z"
    }
   },
   "outputs": [
    {
     "name": "stdout",
     "output_type": "stream",
     "text": [
      "Accuracy: 0.7688\n",
      "\n",
      "Classification Report:\n",
      "              precision    recall  f1-score   support\n",
      "\n",
      "           0       0.73      0.85      0.79       611\n",
      "           1       0.82      0.69      0.75       600\n",
      "\n",
      "    accuracy                           0.77      1211\n",
      "   macro avg       0.78      0.77      0.77      1211\n",
      "weighted avg       0.78      0.77      0.77      1211\n",
      "\n",
      "\n",
      "Confusion Matrix:\n",
      "[[519  92]\n",
      " [188 412]]\n"
     ]
    }
   ],
   "source": [
    "nb(X_train_redux, X_test_redux, y_train, y_val)"
   ]
  },
  {
   "cell_type": "markdown",
   "metadata": {},
   "source": [
    "## 7.2 Support Vector Machine (SVM)"
   ]
  },
  {
   "cell_type": "markdown",
   "metadata": {},
   "source": [
    "### - Basic BoW"
   ]
  },
  {
   "cell_type": "code",
   "execution_count": null,
   "metadata": {},
   "outputs": [],
   "source": [
    "support_vector_machine(X_train_vec, X_val_vec, y_train, y_val)"
   ]
  },
  {
   "cell_type": "markdown",
   "metadata": {},
   "source": [
    "### - 1-hot BoW"
   ]
  },
  {
   "cell_type": "code",
   "execution_count": 34,
   "metadata": {
    "ExecuteTime": {
     "end_time": "2025-03-28T04:01:22.065150Z",
     "start_time": "2025-03-28T03:23:47.020838Z"
    }
   },
   "outputs": [
    {
     "name": "stdout",
     "output_type": "stream",
     "text": [
      "Best Parameters: {'C': 1, 'gamma': 'scale', 'kernel': 'sigmoid'}\n",
      "Best Cross-Validation Accuracy: 0.7880361173814899\n",
      "Classification Report:\n",
      "              precision    recall  f1-score   support\n",
      "\n",
      "           0       0.80      0.88      0.84       611\n",
      "           1       0.87      0.78      0.82       600\n",
      "\n",
      "    accuracy                           0.83      1211\n",
      "   macro avg       0.83      0.83      0.83      1211\n",
      "weighted avg       0.83      0.83      0.83      1211\n",
      "\n",
      "Accuracy: 0.8298926507018992\n"
     ]
    }
   ],
   "source": [
    "support_vector_machine(X_train_hot, X_val_hot, y_train, y_val)"
   ]
  },
  {
   "cell_type": "code",
   "execution_count": 35,
   "metadata": {
    "ExecuteTime": {
     "end_time": "2025-03-28T04:01:22.812415Z",
     "start_time": "2025-03-28T04:01:22.689487Z"
    }
   },
   "outputs": [
    {
     "name": "stdout",
     "output_type": "stream",
     "text": [
      "(8860, 13942)\n",
      "(8860, 807)\n"
     ]
    }
   ],
   "source": [
    "# Features Selection Chi2\n",
    "print(X_train_vec.shape)\n",
    "sel, X_train_redux, X_test_redux = feat_filtering(X_train_hot, y_train, X_val_hot)\n",
    "print(X_train_redux.shape)"
   ]
  },
  {
   "cell_type": "code",
   "execution_count": 36,
   "metadata": {
    "ExecuteTime": {
     "end_time": "2025-03-28T05:00:02.630085Z",
     "start_time": "2025-03-28T04:01:22.978730Z"
    }
   },
   "outputs": [
    {
     "name": "stdout",
     "output_type": "stream",
     "text": [
      "Best Parameters: {'C': 100, 'gamma': 'auto', 'kernel': 'rbf'}\n",
      "Best Cross-Validation Accuracy: 0.8023702031602709\n",
      "Classification Report:\n",
      "              precision    recall  f1-score   support\n",
      "\n",
      "           0       0.81      0.86      0.84       611\n",
      "           1       0.85      0.80      0.82       600\n",
      "\n",
      "    accuracy                           0.83      1211\n",
      "   macro avg       0.83      0.83      0.83      1211\n",
      "weighted avg       0.83      0.83      0.83      1211\n",
      "\n",
      "Accuracy: 0.8307184145334434\n"
     ]
    }
   ],
   "source": [
    "support_vector_machine(X_train_redux, X_test_redux, y_train, y_val)"
   ]
  },
  {
   "cell_type": "code",
   "execution_count": 37,
   "metadata": {
    "ExecuteTime": {
     "end_time": "2025-03-28T05:02:20.448864Z",
     "start_time": "2025-03-28T05:00:03.329311Z"
    }
   },
   "outputs": [],
   "source": [
    "#RFE\n",
    "sel, X_train_redux, X_test_redux = rfe(X_train_hot, y_train, X_val_hot, min_features_to_select=int(X_train_hot.shape[1]*0.9), save_file=True)"
   ]
  },
  {
   "cell_type": "code",
   "execution_count": 38,
   "metadata": {
    "ExecuteTime": {
     "end_time": "2025-03-28T05:27:08.747290Z",
     "start_time": "2025-03-28T05:02:20.709986Z"
    }
   },
   "outputs": [
    {
     "name": "stdout",
     "output_type": "stream",
     "text": [
      "Best Parameters: {'C': 100, 'gamma': 'auto', 'kernel': 'rbf'}\n",
      "Best Cross-Validation Accuracy: 0.7882618510158014\n",
      "Classification Report:\n",
      "              precision    recall  f1-score   support\n",
      "\n",
      "           0       0.79      0.90      0.84       611\n",
      "           1       0.88      0.75      0.81       600\n",
      "\n",
      "    accuracy                           0.83      1211\n",
      "   macro avg       0.84      0.83      0.83      1211\n",
      "weighted avg       0.84      0.83      0.83      1211\n",
      "\n",
      "Accuracy: 0.8282411230388109\n"
     ]
    }
   ],
   "source": [
    "support_vector_machine(X_train_redux, X_test_redux, y_train, y_val)"
   ]
  },
  {
   "cell_type": "markdown",
   "metadata": {},
   "source": [
    "### - TF-IDF"
   ]
  },
  {
   "cell_type": "code",
   "execution_count": 26,
   "metadata": {
    "ExecuteTime": {
     "end_time": "2025-03-28T02:04:26.570805Z",
     "start_time": "2025-03-28T01:25:42.533670Z"
    }
   },
   "outputs": [
    {
     "name": "stdout",
     "output_type": "stream",
     "text": [
      "Best Parameters: {'C': 1, 'gamma': 'scale', 'kernel': 'rbf'}\n",
      "Best Cross-Validation Accuracy: 0.7993227990970654\n",
      "Classification Report:\n",
      "              precision    recall  f1-score   support\n",
      "\n",
      "           0       0.84      0.89      0.86       611\n",
      "           1       0.88      0.82      0.85       600\n",
      "\n",
      "    accuracy                           0.86      1211\n",
      "   macro avg       0.86      0.86      0.86      1211\n",
      "weighted avg       0.86      0.86      0.86      1211\n",
      "\n",
      "Accuracy: 0.8587943848059455\n"
     ]
    }
   ],
   "source": [
    "support_vector_machine(X_train_vec_tf, X_val_vec_tf, y_train, y_val)"
   ]
  },
  {
   "cell_type": "code",
   "execution_count": 28,
   "metadata": {
    "ExecuteTime": {
     "end_time": "2025-03-28T02:10:55.693635Z",
     "start_time": "2025-03-28T02:10:55.589920Z"
    }
   },
   "outputs": [
    {
     "name": "stdout",
     "output_type": "stream",
     "text": [
      "(8860, 13942)\n",
      "(8860, 807)\n"
     ]
    }
   ],
   "source": [
    "# Featres Selection Chi2\n",
    "print(X_train_vec.shape)\n",
    "sel, X_train_redux, X_test_redux = feat_filtering(X_train_vec_tf, y_train, X_val_vec_tf)\n",
    "print(X_train_redux.shape)"
   ]
  },
  {
   "cell_type": "code",
   "execution_count": 29,
   "metadata": {
    "ExecuteTime": {
     "end_time": "2025-03-28T02:30:12.805775Z",
     "start_time": "2025-03-28T02:11:51.981331Z"
    }
   },
   "outputs": [
    {
     "name": "stdout",
     "output_type": "stream",
     "text": [
      "Best Parameters: {'C': 10, 'gamma': 0.1, 'kernel': 'rbf'}\n",
      "Best Cross-Validation Accuracy: 0.8110609480812642\n",
      "Classification Report:\n",
      "              precision    recall  f1-score   support\n",
      "\n",
      "           0       0.83      0.88      0.85       611\n",
      "           1       0.87      0.81      0.84       600\n",
      "\n",
      "    accuracy                           0.85      1211\n",
      "   macro avg       0.85      0.85      0.85      1211\n",
      "weighted avg       0.85      0.85      0.85      1211\n",
      "\n",
      "Accuracy: 0.8455821635012386\n"
     ]
    }
   ],
   "source": [
    "# Chi2\n",
    "support_vector_machine(X_train_redux, X_test_redux, y_train, y_val)"
   ]
  },
  {
   "cell_type": "code",
   "execution_count": 31,
   "metadata": {
    "ExecuteTime": {
     "end_time": "2025-03-28T02:34:41.966071Z",
     "start_time": "2025-03-28T02:32:48.075679Z"
    }
   },
   "outputs": [],
   "source": [
    "from our_feature_selection import rfe\n",
    "\n",
    "sel, X_train_redux, X_test_redux = rfe(X_train_vec_tf, y_train, X_val_vec_tf, min_features_to_select=int(X_train_vec_tf.shape[1]*0.9), save_file=True)"
   ]
  },
  {
   "cell_type": "code",
   "execution_count": 32,
   "metadata": {
    "ExecuteTime": {
     "end_time": "2025-03-28T03:20:56.686507Z",
     "start_time": "2025-03-28T02:34:55.577400Z"
    }
   },
   "outputs": [
    {
     "name": "stdout",
     "output_type": "stream",
     "text": [
      "Best Parameters: {'C': 1, 'gamma': 'scale', 'kernel': 'rbf'}\n",
      "Best Cross-Validation Accuracy: 0.7993227990970654\n",
      "Classification Report:\n",
      "              precision    recall  f1-score   support\n",
      "\n",
      "           0       0.84      0.89      0.86       611\n",
      "           1       0.88      0.82      0.85       600\n",
      "\n",
      "    accuracy                           0.86      1211\n",
      "   macro avg       0.86      0.86      0.86      1211\n",
      "weighted avg       0.86      0.86      0.86      1211\n",
      "\n",
      "Accuracy: 0.8587943848059455\n"
     ]
    }
   ],
   "source": [
    "# RFE\n",
    "support_vector_machine(X_train_redux, X_test_redux, y_train, y_val)"
   ]
  },
  {
   "cell_type": "markdown",
   "metadata": {},
   "source": [
    "### - Bigrams"
   ]
  },
  {
   "cell_type": "code",
   "execution_count": null,
   "metadata": {},
   "outputs": [],
   "source": [
    "support_vector_machine(X_train_vec_bi, X_val_vec_bi, y_train, y_val)"
   ]
  },
  {
   "cell_type": "markdown",
   "metadata": {},
   "source": [
    "### - Word2Vec Embedding"
   ]
  },
  {
   "cell_type": "code",
   "execution_count": 53,
   "metadata": {},
   "outputs": [
    {
     "name": "stdout",
     "output_type": "stream",
     "text": [
      "Best Parameters: {'C': 100, 'gamma': 'scale', 'kernel': 'linear'}\n",
      "Best Cross-Validation Accuracy: 0.7987584650112867\n",
      "Classification Report:\n",
      "              precision    recall  f1-score   support\n",
      "\n",
      "           0       0.82      0.84      0.83       611\n",
      "           1       0.83      0.81      0.82       600\n",
      "\n",
      "    accuracy                           0.82      1211\n",
      "   macro avg       0.83      0.82      0.82      1211\n",
      "weighted avg       0.83      0.82      0.82      1211\n",
      "\n",
      "Accuracy: 0.8249380677126342\n"
     ]
    }
   ],
   "source": [
    "# Word2Vec CBOW \n",
    "Best Parameters: {'C': 100, 'gamma': 'scale', 'kernel': 'linear'}\n",
    "\n",
    "support_vector_machine(X_train_vec_w2v, X_val_vec_w2v, y_train, y_val)"
   ]
  },
  {
   "cell_type": "markdown",
   "metadata": {
    "jp-MarkdownHeadingCollapsed": true
   },
   "source": [
    "## 7.3 Random Forest"
   ]
  },
  {
   "cell_type": "markdown",
   "metadata": {},
   "source": [
    "### - Basic BoW"
   ]
  },
  {
   "cell_type": "code",
   "execution_count": null,
   "metadata": {},
   "outputs": [],
   "source": [
    "random_forest(X_train_vec, X_val_vec, y_train, y_val)"
   ]
  },
  {
   "cell_type": "markdown",
   "metadata": {},
   "source": [
    "### - 1-hot BoW"
   ]
  },
  {
   "cell_type": "code",
   "execution_count": null,
   "metadata": {},
   "outputs": [],
   "source": [
    "random_forest(X_train_hot, X_val_hot, y_train, y_val)"
   ]
  },
  {
   "cell_type": "markdown",
   "metadata": {},
   "source": [
    "### - TF-IDF"
   ]
  },
  {
   "cell_type": "code",
   "execution_count": null,
   "metadata": {},
   "outputs": [],
   "source": [
    "random_forest(X_train_vec_tf, X_val_vec_tf, y_train, y_val)"
   ]
  },
  {
   "cell_type": "markdown",
   "metadata": {},
   "source": [
    "### - Bigrams"
   ]
  },
  {
   "cell_type": "code",
   "execution_count": null,
   "metadata": {},
   "outputs": [],
   "source": [
    "random_forest(X_train_vec_bi, X_val_vec_bi, y_train, y_val)"
   ]
  },
  {
   "cell_type": "markdown",
   "metadata": {},
   "source": [
    "## 7.4 Embedding Modeling"
   ]
  },
  {
   "cell_type": "markdown",
   "metadata": {},
   "source": [
    "### NB"
   ]
  },
  {
   "cell_type": "code",
   "execution_count": null,
   "metadata": {},
   "outputs": [],
   "source": [
    "from sklearn.preprocessing import MinMaxScaler\n",
    "\n",
    "scaler = MinMaxScaler()\n",
    "X_train_scaled = scaler.fit_transform(X_train_vec)\n",
    "X_val_scaled = scaler.transform(X_val_vec)\n",
    "\n",
    "\n",
    "nb(X_train_scaled, X_val_scaled, y_train, y_val)\n",
    "\n",
    "sel, X_train_redux, X_val_redux = feat_filtering(X_train_scaled, y_train, X_val_scaled, k=2)\n",
    "\n",
    "nb(X_train_redux, X_val_redux, y_train, y_val)"
   ]
  },
  {
   "cell_type": "markdown",
   "metadata": {},
   "source": [
    "### SVM"
   ]
  },
  {
   "cell_type": "code",
   "execution_count": null,
   "metadata": {},
   "outputs": [],
   "source": [
    "from sklearn.preprocessing import MinMaxScaler\n",
    "\n",
    "scaler = MinMaxScaler()\n",
    "X_train_scaled = scaler.fit_transform(X_train_vec)\n",
    "X_val_scaled = scaler.transform(X_val_vec)"
   ]
  },
  {
   "cell_type": "code",
   "execution_count": null,
   "metadata": {},
   "outputs": [],
   "source": [
    "support_vector_machine(X_train_scaled, X_val_scaled, y_train, y_val) # Best Parameters:  {'C': 100, 'gamma': 0.01, 'kernel': 'sigmoid'} for bert , but actually it doesn't really matter"
   ]
  },
  {
   "cell_type": "code",
   "execution_count": null,
   "metadata": {},
   "outputs": [],
   "source": [
    "from our_feature_selection import rfe\n",
    "\n",
    "rfe(X_train_vec, y_train, X_val_vec, min_features_to_select=int(X_train_vec.shape[1]*0.9), save_file=True)"
   ]
  },
  {
   "cell_type": "code",
   "execution_count": null,
   "metadata": {},
   "outputs": [],
   "source": [
    "import pickle\n",
    "with open('./rfecv_svm.pickle', \"rb\") as f:\n",
    "    rfe_sel = pickle.load(f)"
   ]
  },
  {
   "cell_type": "code",
   "execution_count": null,
   "metadata": {},
   "outputs": [],
   "source": [
    "from sklearn.svm import SVC\n",
    "\n",
    "from sklearn.preprocessing import MinMaxScaler\n",
    "from sklearn.pipeline import Pipeline\n",
    "\n",
    "best_model = Pipeline([('scaler', MinMaxScaler()), ('svc', SVC(probability=True))])\n",
    "best_model.fit(X_train_vec, y_train)\n",
    "\n",
    "y_pred = best_model.predict(X_val_vec)\n",
    "\n",
    "# Evaluate the model\n",
    "print(\"Classification Report:\")\n",
    "print(classification_report(y_val, y_pred))\n",
    "print(\"Accuracy:\", accuracy_score(y_val, y_pred))\n",
    "\n",
    "# sel, X_train_redux, X_val_redux = feat_filtering(X_train_scaled, y_train, X_val_vec, k=95)\n",
    "# best_model.fit(X_train_redux, y_train)\n",
    "\n",
    "# y_pred = best_model.predict(X_val_redux)\n",
    "\n",
    "# # Evaluate the model\n",
    "# print(\"Classification Report:\")\n",
    "# print(classification_report(y_val, y_pred))\n",
    "# print(\"Accuracy:\", accuracy_score(y_val, y_pred))\n",
    "\n",
    "# X_train_redux = rfe_sel.transform(X_train_scaled)\n",
    "# X_val_redux = rfe_sel.transform(X_val_scaled)\n",
    "# best_model.fit(X_train_redux, y_train)\n",
    "\n",
    "# y_pred = best_model.predict(X_val_redux)\n",
    "\n",
    "# # Evaluate the model\n",
    "# print(\"Classification Report:\")\n",
    "# print(classification_report(y_val, y_pred))\n",
    "# print(\"Accuracy:\", accuracy_score(y_val, y_pred))"
   ]
  },
  {
   "cell_type": "code",
   "execution_count": null,
   "metadata": {},
   "outputs": [],
   "source": [
    "with open('./best_model.pickle', \"wb\") as f:\n",
    "    pickle.dump(best_model, f)"
   ]
  },
  {
   "cell_type": "markdown",
   "metadata": {},
   "source": [
    "# 8. Error Analysis"
   ]
  },
  {
   "cell_type": "code",
   "execution_count": null,
   "metadata": {},
   "outputs": [],
   "source": [
    "with open('./best_model.pickle', \"rb\") as f:\n",
    "    best_model = pickle.load(f)"
   ]
  },
  {
   "cell_type": "code",
   "execution_count": null,
   "metadata": {},
   "outputs": [],
   "source": [
    "from lime.lime_text import LimeTextExplainer\n",
    "explainer = LimeTextExplainer()\n",
    "\n",
    "def explain_point_label(explainer, predict, pt, num_features=10, num_samples=20):\n",
    "\n",
    "  explanation = explainer.explain_instance(\n",
    "      pt,\n",
    "      predict,\n",
    "      num_features=5,  # Number of words to display as important\n",
    "      num_samples=50,  # Number of perturbations to create\n",
    "  )\n",
    "  explanation.show_in_notebook(text=True)\n",
    "  return explanation\n",
    "\n",
    "def predict_lime(pt):\n",
    "  dings = bert_embeddings(pt)\n",
    "  pred = best_model.predict_proba(dings)\n",
    "  return pred "
   ]
  },
  {
   "cell_type": "code",
   "execution_count": null,
   "metadata": {},
   "outputs": [],
   "source": [
    "def find_errors(model, X_val, y_val):\n",
    "    errors = []\n",
    "    i = 0\n",
    "    for row, label in zip(X_val, y_val):\n",
    "        i += 1\n",
    "        pred = predict_lime([row])\n",
    "        if pred[0] != label:\n",
    "            errors.append(row)\n",
    "\n",
    "    return errors\n",
    "\n",
    "errors = find_errors(best_model, X_val, y_val)\n",
    "len(errors)"
   ]
  },
  {
   "cell_type": "code",
   "execution_count": null,
   "metadata": {},
   "outputs": [],
   "source": [
    "error_df = pd.DataFrame(errors)"
   ]
  },
  {
   "cell_type": "code",
   "execution_count": null,
   "metadata": {},
   "outputs": [],
   "source": [
    "error_df.to_json('./errors.json', orient='records')"
   ]
  },
  {
   "cell_type": "code",
   "execution_count": null,
   "metadata": {},
   "outputs": [],
   "source": [
    "errors_to_explain = error_df.sample(20)"
   ]
  },
  {
   "cell_type": "code",
   "execution_count": null,
   "metadata": {},
   "outputs": [],
   "source": [
    "def explain_sample(sample, explainer, predict, num_features=10, num_samples=10):\n",
    "    for i, row in sample.iterrows():\n",
    "        print(row[0])\n",
    "        explain_point_label(explainer, predict, row[0], num_features=num_features, num_samples=num_samples)\n",
    "\n",
    "explain_sample(errors_to_explain, explainer, predict_lime)"
   ]
  }
 ],
 "metadata": {
  "kernelspec": {
   "display_name": "Python [conda env:tfenv]",
   "language": "python",
   "name": "conda-env-tfenv-py"
  },
  "language_info": {
   "codemirror_mode": {
    "name": "ipython",
    "version": 3
   },
   "file_extension": ".py",
   "mimetype": "text/x-python",
   "name": "python",
   "nbconvert_exporter": "python",
   "pygments_lexer": "ipython3",
   "version": "3.8.18"
  }
 },
 "nbformat": 4,
 "nbformat_minor": 4
}
