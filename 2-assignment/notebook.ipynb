{
 "cells": [
  {
   "cell_type": "markdown",
   "id": "c7b84bcd",
   "metadata": {},
   "source": [
    " Employ [Hugging Face](https://huggingface.co/models?pipeline_tag=text-classification&sort=trending&search=sentiment) transformers for the same classification task as in the first assignment.\n",
    "\n",
    "Explore Hugging Face models to find a pre-trained model that is suitable and promising for fine-tuning to your task. It should make sense to pick one that has been pre-trained for the same language and/or text genre.\n",
    "\n",
    "As a bonus, you can also employ a [domain adaptation](https://huggingface.co/learn/llm-course/chapter7/3?fw=pt) approach, explore [parameter-efficient fine-tuning](https://huggingface.co/docs/peft/main/quicktour) (e.g. LoRA), or [prompting language models](https://huggingface.co/docs/transformers/v4.49.0/en/tasks/prompting).\n",
    "\n",
    "We must ompare the performance of your model(s) with the ones developed for the first assignment."
   ]
  },
  {
   "cell_type": "markdown",
   "id": "c560a55d",
   "metadata": {},
   "source": [
    "Most of the models have problems processing the text!!!"
   ]
  },
  {
   "cell_type": "code",
   "execution_count": null,
   "id": "c2ec1779",
   "metadata": {},
   "outputs": [],
   "source": [
    "import nltk\n",
    "import torch\n",
    "import utils\n",
    "import numpy as np\n",
    "import pandas as pd\n",
    "import tiktoken\n",
    "from transformers import AutoTokenizer, AutoModelForSequenceClassification, pipeline\n"
   ]
  },
  {
   "cell_type": "code",
   "execution_count": null,
   "id": "493a620a",
   "metadata": {},
   "outputs": [],
   "source": [
    "combined_sentiment_df = pd.read_csv(\"../common/data_sentiment_preprocessed.csv\")\n",
    "combined_sentiment_df_val = pd.read_csv(\"../common/data_sentiment_preprocessed_val.csv\")"
   ]
  },
  {
   "cell_type": "code",
   "execution_count": null,
   "id": "99de155f",
   "metadata": {},
   "outputs": [],
   "source": [
    "x_train = combined_sentiment_df.text\n",
    "y_train = combined_sentiment_df.sentiment_label\n",
    "x_val = combined_sentiment_df_val.text\n",
    "y_val = combined_sentiment_df_val.sentiment_label"
   ]
  },
  {
   "cell_type": "markdown",
   "id": "c92c4d1f",
   "metadata": {},
   "source": [
    "## Making use of pretrained huggingface models"
   ]
  },
  {
   "cell_type": "markdown",
   "id": "43e32128",
   "metadata": {},
   "source": [
    "### twitter-roberta-base-sentiment-latest"
   ]
  },
  {
   "cell_type": "code",
   "execution_count": null,
   "id": "98fef923",
   "metadata": {},
   "outputs": [],
   "source": [
    "# https://huggingface.co/cardiffnlp/twitter-roberta-base-sentiment-latest\n",
    "from transformers import pipeline\n",
    "\n",
    "cardiffnlp_roberta = pipeline(\"text-classification\", model=\"cardiffnlp/twitter-roberta-base-sentiment-latest\")\n",
    "\n",
    "\n",
    "print(cardiffnlp_roberta(\"I love you!\"))\n",
    "print(cardiffnlp_roberta(\"I hate you!\"))\n",
    "print(cardiffnlp_roberta(\"neutral text\"))\n",
    "\n",
    "# Load model directly\n",
    "\n",
    "\n",
    "cardiffnlp_roberta_tokenizer = AutoTokenizer.from_pretrained(\"cardiffnlp/twitter-roberta-base-sentiment-latest\")\n",
    "cardiffnlp_roberta_model = AutoModelForSequenceClassification.from_pretrained(\"cardiffnlp/twitter-roberta-base-sentiment-latest\")\n"
   ]
  },
  {
   "cell_type": "code",
   "execution_count": null,
   "id": "7e00cb0e",
   "metadata": {},
   "outputs": [],
   "source": [
    "# cardiffnlp_roberta\n",
    "mapper = {\n",
    "    \"negative\": 0,\n",
    "    \"positive\": 1,\n",
    "    \"neutral\": 1\n",
    "}\n",
    "utils.apply_kaggle_model(cardiffnlp_roberta, mapper, x_val, y_val)\n"
   ]
  },
  {
   "cell_type": "code",
   "execution_count": null,
   "id": "486c2b05",
   "metadata": {},
   "outputs": [],
   "source": [
    "print(cardiffnlp_roberta_tokenizer('How you going?'))"
   ]
  },
  {
   "cell_type": "markdown",
   "id": "aee1c04a",
   "metadata": {},
   "source": [
    "### sentiment-roberta-large-english"
   ]
  },
  {
   "cell_type": "code",
   "execution_count": null,
   "id": "badf0cb8",
   "metadata": {},
   "outputs": [],
   "source": [
    "#https://huggingface.co/siebert/sentiment-roberta-large-english?library=transformers\n",
    "\n",
    "\"\"\"\n",
    "    article: https://www.sciencedirect.com/science/article/pii/S0167811622000477\n",
    "\"\"\"\n",
    "\n",
    "siebert_roberta_tokenizer = AutoTokenizer.from_pretrained(\"siebert/sentiment-roberta-large-english\")\n",
    "siebert_roberta_model = AutoModelForSequenceClassification.from_pretrained(\"siebert/sentiment-roberta-large-english\")\n",
    "\n",
    "\n",
    "from transformers import pipeline\n",
    "\n",
    "siebert_roberta = pipeline(\"text-classification\", model=\"siebert/sentiment-roberta-large-english\")\n",
    "\n",
    "\n",
    "print(siebert_roberta(\"I love you!\"))\n",
    "print(siebert_roberta(\"I hate you!\"))\n",
    "print(siebert_roberta(\"neutral text\"))\n"
   ]
  },
  {
   "cell_type": "code",
   "execution_count": null,
   "id": "3d4a5ce3",
   "metadata": {},
   "outputs": [],
   "source": [
    "print(siebert_roberta_tokenizer('How you going?'))\n",
    "\n"
   ]
  },
  {
   "cell_type": "code",
   "execution_count": null,
   "id": "fba1a134",
   "metadata": {},
   "outputs": [],
   "source": [
    "#siebert_roberta\n",
    "mapper = {\n",
    "    \"NEGATIVE\": 0,\n",
    "    \"POSITIVE\": 1,\n",
    "    \"NEUTRAL\": 1\n",
    "} \n",
    "utils.apply_kaggle_model(siebert_roberta, mapper, x_val, y_val)"
   ]
  },
  {
   "cell_type": "markdown",
   "id": "f7099805",
   "metadata": {},
   "source": [
    "### AG6019/reddit-comment-sentiment"
   ]
  },
  {
   "cell_type": "code",
   "execution_count": null,
   "id": "bc8ebe8e",
   "metadata": {},
   "outputs": [],
   "source": [
    "# https://huggingface.co/AG6019/reddit-comment-sentiment?library=transformers\n",
    "from transformers import pipeline\n",
    "\n",
    "AG6019_comment = pipeline(\"text-classification\", model=\"AG6019/reddit-comment-sentiment\")\n",
    "\n",
    "print(AG6019_comment(\"I love you!\"))\n",
    "print(AG6019_comment(\"I hate you!\"))\n",
    "print(AG6019_comment(\"neutral text\"))"
   ]
  },
  {
   "cell_type": "code",
   "execution_count": null,
   "id": "de49a7d0",
   "metadata": {},
   "outputs": [],
   "source": [
    "mapper = {\n",
    "    \"LABEL_0\": 0,\n",
    "    \"LABEL_1\": 1,\n",
    "}\n",
    "utils.apply_kaggle_model(AG6019_comment, mapper, x_val, y_val)"
   ]
  },
  {
   "cell_type": "markdown",
   "id": "08ed0d3b",
   "metadata": {},
   "source": [
    "## Bonus"
   ]
  },
  {
   "cell_type": "markdown",
   "id": "31859916",
   "metadata": {},
   "source": [
    "Creating our own model"
   ]
  }
 ],
 "metadata": {
  "kernelspec": {
   "display_name": "Python 3",
   "language": "python",
   "name": "python3"
  },
  "language_info": {
   "codemirror_mode": {
    "name": "ipython",
    "version": 3
   },
   "file_extension": ".py",
   "mimetype": "text/x-python",
   "name": "python",
   "nbconvert_exporter": "python",
   "pygments_lexer": "ipython3",
   "version": "3.10.12"
  }
 },
 "nbformat": 4,
 "nbformat_minor": 5
}
