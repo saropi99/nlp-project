{
 "cells": [
  {
   "cell_type": "code",
   "execution_count": 53,
   "metadata": {},
   "outputs": [],
   "source": [
    "#importin common libraries\n",
    "from our_eda import *\n",
    "from our_modeling import *\n",
    "from our_preprocessing import *\n",
    "\n",
    "import matplotlib.pyplot as plt\n",
    "from wordcloud import WordCloud\n",
    "import numpy as np \n",
    "import pandas as pd \n",
    "from our_feature_extraction import basic_bag, tf_idf, ClassAwareVectorizer"
   ]
  },
  {
   "cell_type": "markdown",
   "metadata": {},
   "source": [
    "## Download dataset files from HuggingFace"
   ]
  },
  {
   "cell_type": "markdown",
   "metadata": {},
   "source": [
    "### BESSTIE-reddit-sentiment-uk/"
   ]
  },
  {
   "cell_type": "code",
   "execution_count": 3,
   "metadata": {},
   "outputs": [
    {
     "name": "stderr",
     "output_type": "stream",
     "text": [
      "/Users/santiagoromero/Documents/nlp/nlp-env/lib/python3.9/site-packages/urllib3/__init__.py:35: NotOpenSSLWarning: urllib3 v2 only supports OpenSSL 1.1.1+, currently the 'ssl' module is compiled with 'LibreSSL 2.8.3'. See: https://github.com/urllib3/urllib3/issues/3020\n",
      "  warnings.warn(\n",
      "/Users/santiagoromero/Documents/nlp/nlp-env/lib/python3.9/site-packages/tqdm/auto.py:21: TqdmWarning: IProgress not found. Please update jupyter and ipywidgets. See https://ipywidgets.readthedocs.io/en/stable/user_install.html\n",
      "  from .autonotebook import tqdm as notebook_tqdm\n"
     ]
    },
    {
     "data": {
      "text/html": [
       "<div>\n",
       "<style scoped>\n",
       "    .dataframe tbody tr th:only-of-type {\n",
       "        vertical-align: middle;\n",
       "    }\n",
       "\n",
       "    .dataframe tbody tr th {\n",
       "        vertical-align: top;\n",
       "    }\n",
       "\n",
       "    .dataframe thead th {\n",
       "        text-align: right;\n",
       "    }\n",
       "</style>\n",
       "<table border=\"1\" class=\"dataframe\">\n",
       "  <thead>\n",
       "    <tr style=\"text-align: right;\">\n",
       "      <th></th>\n",
       "      <th>id</th>\n",
       "      <th>text</th>\n",
       "      <th>sentiment_label</th>\n",
       "    </tr>\n",
       "  </thead>\n",
       "  <tbody>\n",
       "    <tr>\n",
       "      <th>0</th>\n",
       "      <td>1cimjpr</td>\n",
       "      <td>So instead of making savings, they continued t...</td>\n",
       "      <td>0</td>\n",
       "    </tr>\n",
       "    <tr>\n",
       "      <th>1</th>\n",
       "      <td>1d35qlg</td>\n",
       "      <td>Needless story to have dragged into the electi...</td>\n",
       "      <td>0</td>\n",
       "    </tr>\n",
       "    <tr>\n",
       "      <th>2</th>\n",
       "      <td>1d3i3mt</td>\n",
       "      <td>Now, in an ideal world there would be insight ...</td>\n",
       "      <td>0</td>\n",
       "    </tr>\n",
       "    <tr>\n",
       "      <th>3</th>\n",
       "      <td>1d5a8wa</td>\n",
       "      <td>How did you not get mind controlled at birth t...</td>\n",
       "      <td>0</td>\n",
       "    </tr>\n",
       "    <tr>\n",
       "      <th>4</th>\n",
       "      <td>1d5l3e9</td>\n",
       "      <td>Talk lately of conscription, having a store of...</td>\n",
       "      <td>0</td>\n",
       "    </tr>\n",
       "    <tr>\n",
       "      <th>...</th>\n",
       "      <td>...</td>\n",
       "      <td>...</td>\n",
       "      <td>...</td>\n",
       "    </tr>\n",
       "    <tr>\n",
       "      <th>1002</th>\n",
       "      <td>1b5iodf</td>\n",
       "      <td>How is this a non-story? A shop will bow to th...</td>\n",
       "      <td>0</td>\n",
       "    </tr>\n",
       "    <tr>\n",
       "      <th>1003</th>\n",
       "      <td>1cv6iym</td>\n",
       "      <td>The smoke screen is real, and Suella (along wi...</td>\n",
       "      <td>0</td>\n",
       "    </tr>\n",
       "    <tr>\n",
       "      <th>1004</th>\n",
       "      <td>1c9kjse</td>\n",
       "      <td>It's a really serious problem that young white...</td>\n",
       "      <td>0</td>\n",
       "    </tr>\n",
       "    <tr>\n",
       "      <th>1005</th>\n",
       "      <td>1b22zae</td>\n",
       "      <td>Good luck. Imagine if you refuse to see a PA b...</td>\n",
       "      <td>0</td>\n",
       "    </tr>\n",
       "    <tr>\n",
       "      <th>1006</th>\n",
       "      <td>1d3zv41</td>\n",
       "      <td>So first thing you're going to do is to fix th...</td>\n",
       "      <td>0</td>\n",
       "    </tr>\n",
       "  </tbody>\n",
       "</table>\n",
       "<p>1007 rows × 3 columns</p>\n",
       "</div>"
      ],
      "text/plain": [
       "           id                                               text  \\\n",
       "0     1cimjpr  So instead of making savings, they continued t...   \n",
       "1     1d35qlg  Needless story to have dragged into the electi...   \n",
       "2     1d3i3mt  Now, in an ideal world there would be insight ...   \n",
       "3     1d5a8wa  How did you not get mind controlled at birth t...   \n",
       "4     1d5l3e9  Talk lately of conscription, having a store of...   \n",
       "...       ...                                                ...   \n",
       "1002  1b5iodf  How is this a non-story? A shop will bow to th...   \n",
       "1003  1cv6iym  The smoke screen is real, and Suella (along wi...   \n",
       "1004  1c9kjse  It's a really serious problem that young white...   \n",
       "1005  1b22zae  Good luck. Imagine if you refuse to see a PA b...   \n",
       "1006  1d3zv41  So first thing you're going to do is to fix th...   \n",
       "\n",
       "      sentiment_label  \n",
       "0                   0  \n",
       "1                   0  \n",
       "2                   0  \n",
       "3                   0  \n",
       "4                   0  \n",
       "...               ...  \n",
       "1002                0  \n",
       "1003                0  \n",
       "1004                0  \n",
       "1005                0  \n",
       "1006                0  \n",
       "\n",
       "[1007 rows x 3 columns]"
      ]
     },
     "execution_count": 3,
     "metadata": {},
     "output_type": "execute_result"
    }
   ],
   "source": [
    "import pandas as pd\n",
    "\n",
    "splits = {'train': 'reddit-sentiment-uk-train.jsonl', 'validation': 'reddit-sentiment-uk-valid.jsonl'}\n",
    "df_reddit_sentiment_uk = pd.read_json(\"hf://datasets/mindhunter23/BESSTIE-reddit-sentiment-uk/\" + splits[\"train\"], lines=True)\n",
    "df_reddit_sentiment_uk_val = pd.read_json(\"hf://datasets/mindhunter23/BESSTIE-reddit-sentiment-uk/\" + splits[\"validation\"], lines=True)\n",
    "df_reddit_sentiment_uk"
   ]
  },
  {
   "cell_type": "code",
   "execution_count": 4,
   "metadata": {},
   "outputs": [
    {
     "name": "stdout",
     "output_type": "stream",
     "text": [
      "                 Count  Percentage\n",
      "sentiment_label                   \n",
      "0                  892       88.58\n",
      "1                  115       11.42\n"
     ]
    }
   ],
   "source": [
    "class_distribution(df_reddit_sentiment_uk) # Imbalanced data "
   ]
  },
  {
   "cell_type": "markdown",
   "metadata": {},
   "source": [
    "### BESSTIE-reddit-sentiment-au/"
   ]
  },
  {
   "cell_type": "code",
   "execution_count": 5,
   "metadata": {},
   "outputs": [
    {
     "data": {
      "text/html": [
       "<div>\n",
       "<style scoped>\n",
       "    .dataframe tbody tr th:only-of-type {\n",
       "        vertical-align: middle;\n",
       "    }\n",
       "\n",
       "    .dataframe tbody tr th {\n",
       "        vertical-align: top;\n",
       "    }\n",
       "\n",
       "    .dataframe thead th {\n",
       "        text-align: right;\n",
       "    }\n",
       "</style>\n",
       "<table border=\"1\" class=\"dataframe\">\n",
       "  <thead>\n",
       "    <tr style=\"text-align: right;\">\n",
       "      <th></th>\n",
       "      <th>id</th>\n",
       "      <th>text</th>\n",
       "      <th>sentiment_label</th>\n",
       "    </tr>\n",
       "  </thead>\n",
       "  <tbody>\n",
       "    <tr>\n",
       "      <th>0</th>\n",
       "      <td>1d2d56d</td>\n",
       "      <td>No its more about risk management, why accept ...</td>\n",
       "      <td>1</td>\n",
       "    </tr>\n",
       "    <tr>\n",
       "      <th>1</th>\n",
       "      <td>1d2cfsd</td>\n",
       "      <td>I don’t play this game. \\n\\nThem: “What are yo...</td>\n",
       "      <td>0</td>\n",
       "    </tr>\n",
       "    <tr>\n",
       "      <th>2</th>\n",
       "      <td>1cw9vcr</td>\n",
       "      <td>Well I'm not really confident that we'll see m...</td>\n",
       "      <td>0</td>\n",
       "    </tr>\n",
       "    <tr>\n",
       "      <th>3</th>\n",
       "      <td>1czvemb</td>\n",
       "      <td>He's not wrong though  alot of media is RW sla...</td>\n",
       "      <td>0</td>\n",
       "    </tr>\n",
       "    <tr>\n",
       "      <th>4</th>\n",
       "      <td>1d3x6bo</td>\n",
       "      <td>Please contact safe transport Victoria. This i...</td>\n",
       "      <td>1</td>\n",
       "    </tr>\n",
       "    <tr>\n",
       "      <th>...</th>\n",
       "      <td>...</td>\n",
       "      <td>...</td>\n",
       "      <td>...</td>\n",
       "    </tr>\n",
       "    <tr>\n",
       "      <th>1758</th>\n",
       "      <td>1d3yzbw</td>\n",
       "      <td>I just went through this with my tenant who wa...</td>\n",
       "      <td>1</td>\n",
       "    </tr>\n",
       "    <tr>\n",
       "      <th>1759</th>\n",
       "      <td>1d3yn9l</td>\n",
       "      <td>Yeah my rental has a shitty little 1kw split s...</td>\n",
       "      <td>0</td>\n",
       "    </tr>\n",
       "    <tr>\n",
       "      <th>1760</th>\n",
       "      <td>1d0upb1</td>\n",
       "      <td>Lol like what ? go back in time and buy 150mil...</td>\n",
       "      <td>0</td>\n",
       "    </tr>\n",
       "    <tr>\n",
       "      <th>1761</th>\n",
       "      <td>1d639g5</td>\n",
       "      <td>From my point of view, there is absolutely not...</td>\n",
       "      <td>0</td>\n",
       "    </tr>\n",
       "    <tr>\n",
       "      <th>1762</th>\n",
       "      <td>1d00sm5</td>\n",
       "      <td>[Billy Snedden]( The speaker of the house/lead...</td>\n",
       "      <td>0</td>\n",
       "    </tr>\n",
       "  </tbody>\n",
       "</table>\n",
       "<p>1763 rows × 3 columns</p>\n",
       "</div>"
      ],
      "text/plain": [
       "           id                                               text  \\\n",
       "0     1d2d56d  No its more about risk management, why accept ...   \n",
       "1     1d2cfsd  I don’t play this game. \\n\\nThem: “What are yo...   \n",
       "2     1cw9vcr  Well I'm not really confident that we'll see m...   \n",
       "3     1czvemb  He's not wrong though  alot of media is RW sla...   \n",
       "4     1d3x6bo  Please contact safe transport Victoria. This i...   \n",
       "...       ...                                                ...   \n",
       "1758  1d3yzbw  I just went through this with my tenant who wa...   \n",
       "1759  1d3yn9l  Yeah my rental has a shitty little 1kw split s...   \n",
       "1760  1d0upb1  Lol like what ? go back in time and buy 150mil...   \n",
       "1761  1d639g5  From my point of view, there is absolutely not...   \n",
       "1762  1d00sm5  [Billy Snedden]( The speaker of the house/lead...   \n",
       "\n",
       "      sentiment_label  \n",
       "0                   1  \n",
       "1                   0  \n",
       "2                   0  \n",
       "3                   0  \n",
       "4                   1  \n",
       "...               ...  \n",
       "1758                1  \n",
       "1759                0  \n",
       "1760                0  \n",
       "1761                0  \n",
       "1762                0  \n",
       "\n",
       "[1763 rows x 3 columns]"
      ]
     },
     "execution_count": 5,
     "metadata": {},
     "output_type": "execute_result"
    }
   ],
   "source": [
    "import pandas as pd\n",
    "\n",
    "splits = {'train': 'reddit-sentiment-au-train.jsonl', 'validation': 'reddit-sentiment-au-valid.jsonl'}\n",
    "df_reddit_sentiment_au = pd.read_json(\"hf://datasets/mindhunter23/BESSTIE-reddit-sentiment-au/\" + splits[\"train\"], lines=True)\n",
    "df_reddit_sentiment_au_val = pd.read_json(\"hf://datasets/mindhunter23/BESSTIE-reddit-sentiment-au/\" + splits[\"validation\"], lines=True)\n",
    "df_reddit_sentiment_au"
   ]
  },
  {
   "cell_type": "code",
   "execution_count": 6,
   "metadata": {},
   "outputs": [
    {
     "name": "stdout",
     "output_type": "stream",
     "text": [
      "                 Count  Percentage\n",
      "sentiment_label                   \n",
      "0                 1200       68.07\n",
      "1                  563       31.93\n"
     ]
    }
   ],
   "source": [
    "class_distribution(df_reddit_sentiment_au)"
   ]
  },
  {
   "cell_type": "markdown",
   "metadata": {},
   "source": [
    "### BESSTIE-google-sentiment-uk"
   ]
  },
  {
   "cell_type": "code",
   "execution_count": 7,
   "metadata": {},
   "outputs": [
    {
     "data": {
      "text/html": [
       "<div>\n",
       "<style scoped>\n",
       "    .dataframe tbody tr th:only-of-type {\n",
       "        vertical-align: middle;\n",
       "    }\n",
       "\n",
       "    .dataframe tbody tr th {\n",
       "        vertical-align: top;\n",
       "    }\n",
       "\n",
       "    .dataframe thead th {\n",
       "        text-align: right;\n",
       "    }\n",
       "</style>\n",
       "<table border=\"1\" class=\"dataframe\">\n",
       "  <thead>\n",
       "    <tr style=\"text-align: right;\">\n",
       "      <th></th>\n",
       "      <th>id</th>\n",
       "      <th>text</th>\n",
       "      <th>sentiment_label</th>\n",
       "    </tr>\n",
       "  </thead>\n",
       "  <tbody>\n",
       "    <tr>\n",
       "      <th>0</th>\n",
       "      <td>1.046000e+20</td>\n",
       "      <td>Tricky me because I was checking in over midni...</td>\n",
       "      <td>1</td>\n",
       "    </tr>\n",
       "    <tr>\n",
       "      <th>1</th>\n",
       "      <td>1.161344e+20</td>\n",
       "      <td>It's lots more cheaper than the Odeon although...</td>\n",
       "      <td>1</td>\n",
       "    </tr>\n",
       "    <tr>\n",
       "      <th>2</th>\n",
       "      <td>1.034757e+20</td>\n",
       "      <td>My first time and last time in this place. It ...</td>\n",
       "      <td>0</td>\n",
       "    </tr>\n",
       "    <tr>\n",
       "      <th>3</th>\n",
       "      <td>1.073389e+20</td>\n",
       "      <td>You know, its not bad at all, you get plenty o...</td>\n",
       "      <td>1</td>\n",
       "    </tr>\n",
       "    <tr>\n",
       "      <th>4</th>\n",
       "      <td>1.172204e+20</td>\n",
       "      <td>It's. It's OK for a quick fix of junk food. Re...</td>\n",
       "      <td>0</td>\n",
       "    </tr>\n",
       "    <tr>\n",
       "      <th>...</th>\n",
       "      <td>...</td>\n",
       "      <td>...</td>\n",
       "      <td>...</td>\n",
       "    </tr>\n",
       "    <tr>\n",
       "      <th>1812</th>\n",
       "      <td>1.156926e+20</td>\n",
       "      <td>Great service by the staff! The food was good ...</td>\n",
       "      <td>1</td>\n",
       "    </tr>\n",
       "    <tr>\n",
       "      <th>1813</th>\n",
       "      <td>1.087021e+20</td>\n",
       "      <td>Food was delicious chicken bacon avocado in br...</td>\n",
       "      <td>1</td>\n",
       "    </tr>\n",
       "    <tr>\n",
       "      <th>1814</th>\n",
       "      <td>1.176660e+20</td>\n",
       "      <td>It was a very nice moon display with some love...</td>\n",
       "      <td>1</td>\n",
       "    </tr>\n",
       "    <tr>\n",
       "      <th>1815</th>\n",
       "      <td>1.114779e+20</td>\n",
       "      <td>The food was nice but the service from one sta...</td>\n",
       "      <td>1</td>\n",
       "    </tr>\n",
       "    <tr>\n",
       "      <th>1816</th>\n",
       "      <td>1.128380e+20</td>\n",
       "      <td>Wow, what a disappointment. Came as a party of...</td>\n",
       "      <td>0</td>\n",
       "    </tr>\n",
       "  </tbody>\n",
       "</table>\n",
       "<p>1817 rows × 3 columns</p>\n",
       "</div>"
      ],
      "text/plain": [
       "                id                                               text  \\\n",
       "0     1.046000e+20  Tricky me because I was checking in over midni...   \n",
       "1     1.161344e+20  It's lots more cheaper than the Odeon although...   \n",
       "2     1.034757e+20  My first time and last time in this place. It ...   \n",
       "3     1.073389e+20  You know, its not bad at all, you get plenty o...   \n",
       "4     1.172204e+20  It's. It's OK for a quick fix of junk food. Re...   \n",
       "...            ...                                                ...   \n",
       "1812  1.156926e+20  Great service by the staff! The food was good ...   \n",
       "1813  1.087021e+20  Food was delicious chicken bacon avocado in br...   \n",
       "1814  1.176660e+20  It was a very nice moon display with some love...   \n",
       "1815  1.114779e+20  The food was nice but the service from one sta...   \n",
       "1816  1.128380e+20  Wow, what a disappointment. Came as a party of...   \n",
       "\n",
       "      sentiment_label  \n",
       "0                   1  \n",
       "1                   1  \n",
       "2                   0  \n",
       "3                   1  \n",
       "4                   0  \n",
       "...               ...  \n",
       "1812                1  \n",
       "1813                1  \n",
       "1814                1  \n",
       "1815                1  \n",
       "1816                0  \n",
       "\n",
       "[1817 rows x 3 columns]"
      ]
     },
     "execution_count": 7,
     "metadata": {},
     "output_type": "execute_result"
    }
   ],
   "source": [
    "import pandas as pd\n",
    "\n",
    "splits = {'train': 'google-sentiment-uk-train.jsonl', 'validation': 'google-sentiment-uk-valid.jsonl'}\n",
    "df_google_sentiment_uk = pd.read_json(\"hf://datasets/mindhunter23/BESSTIE-google-sentiment-uk/\" + splits[\"train\"], lines=True)\n",
    "df_google_sentiment_uk_val = pd.read_json(\"hf://datasets/mindhunter23/BESSTIE-google-sentiment-uk/\" + splits[\"validation\"], lines=True)\n",
    "df_google_sentiment_uk"
   ]
  },
  {
   "cell_type": "code",
   "execution_count": 8,
   "metadata": {},
   "outputs": [
    {
     "name": "stdout",
     "output_type": "stream",
     "text": [
      "                 Count  Percentage\n",
      "sentiment_label                   \n",
      "1                 1359       74.79\n",
      "0                  458       25.21\n"
     ]
    }
   ],
   "source": [
    "class_distribution(df_google_sentiment_uk)"
   ]
  },
  {
   "cell_type": "markdown",
   "metadata": {},
   "source": [
    "### BESSTIE-google-sentiment-au"
   ]
  },
  {
   "cell_type": "code",
   "execution_count": 9,
   "metadata": {},
   "outputs": [
    {
     "data": {
      "text/html": [
       "<div>\n",
       "<style scoped>\n",
       "    .dataframe tbody tr th:only-of-type {\n",
       "        vertical-align: middle;\n",
       "    }\n",
       "\n",
       "    .dataframe tbody tr th {\n",
       "        vertical-align: top;\n",
       "    }\n",
       "\n",
       "    .dataframe thead th {\n",
       "        text-align: right;\n",
       "    }\n",
       "</style>\n",
       "<table border=\"1\" class=\"dataframe\">\n",
       "  <thead>\n",
       "    <tr style=\"text-align: right;\">\n",
       "      <th></th>\n",
       "      <th>id</th>\n",
       "      <th>text</th>\n",
       "      <th>sentiment_label</th>\n",
       "    </tr>\n",
       "  </thead>\n",
       "  <tbody>\n",
       "    <tr>\n",
       "      <th>0</th>\n",
       "      <td>1.132555e+20</td>\n",
       "      <td>This was one of the best dishes I've EVER had!...</td>\n",
       "      <td>1</td>\n",
       "    </tr>\n",
       "    <tr>\n",
       "      <th>1</th>\n",
       "      <td>1.101411e+20</td>\n",
       "      <td>This Mexican restaurant in Penrith is a great ...</td>\n",
       "      <td>1</td>\n",
       "    </tr>\n",
       "    <tr>\n",
       "      <th>2</th>\n",
       "      <td>1.103038e+20</td>\n",
       "      <td>This was not to bad, I ordered the big pork ri...</td>\n",
       "      <td>1</td>\n",
       "    </tr>\n",
       "    <tr>\n",
       "      <th>3</th>\n",
       "      <td>1.107520e+20</td>\n",
       "      <td>Clean cool and a nice smaller casino to check ...</td>\n",
       "      <td>1</td>\n",
       "    </tr>\n",
       "    <tr>\n",
       "      <th>4</th>\n",
       "      <td>1.152390e+20</td>\n",
       "      <td>Well set out. Great areas to enjoy. Good food ...</td>\n",
       "      <td>1</td>\n",
       "    </tr>\n",
       "    <tr>\n",
       "      <th>...</th>\n",
       "      <td>...</td>\n",
       "      <td>...</td>\n",
       "      <td>...</td>\n",
       "    </tr>\n",
       "    <tr>\n",
       "      <th>941</th>\n",
       "      <td>1.087996e+20</td>\n",
       "      <td>Beautiful meals and fast cocktails. Waitress w...</td>\n",
       "      <td>1</td>\n",
       "    </tr>\n",
       "    <tr>\n",
       "      <th>942</th>\n",
       "      <td>1.044438e+20</td>\n",
       "      <td>With a reputation for great food and terrific ...</td>\n",
       "      <td>1</td>\n",
       "    </tr>\n",
       "    <tr>\n",
       "      <th>943</th>\n",
       "      <td>1.134915e+20</td>\n",
       "      <td>Nice movie theatre, only downfall are the seat...</td>\n",
       "      <td>1</td>\n",
       "    </tr>\n",
       "    <tr>\n",
       "      <th>944</th>\n",
       "      <td>1.073785e+20</td>\n",
       "      <td>A beautifully styled space with the fun of a s...</td>\n",
       "      <td>1</td>\n",
       "    </tr>\n",
       "    <tr>\n",
       "      <th>945</th>\n",
       "      <td>1.050974e+20</td>\n",
       "      <td>Went for Xmas lunch with friends... previous c...</td>\n",
       "      <td>0</td>\n",
       "    </tr>\n",
       "  </tbody>\n",
       "</table>\n",
       "<p>946 rows × 3 columns</p>\n",
       "</div>"
      ],
      "text/plain": [
       "               id                                               text  \\\n",
       "0    1.132555e+20  This was one of the best dishes I've EVER had!...   \n",
       "1    1.101411e+20  This Mexican restaurant in Penrith is a great ...   \n",
       "2    1.103038e+20  This was not to bad, I ordered the big pork ri...   \n",
       "3    1.107520e+20  Clean cool and a nice smaller casino to check ...   \n",
       "4    1.152390e+20  Well set out. Great areas to enjoy. Good food ...   \n",
       "..            ...                                                ...   \n",
       "941  1.087996e+20  Beautiful meals and fast cocktails. Waitress w...   \n",
       "942  1.044438e+20  With a reputation for great food and terrific ...   \n",
       "943  1.134915e+20  Nice movie theatre, only downfall are the seat...   \n",
       "944  1.073785e+20  A beautifully styled space with the fun of a s...   \n",
       "945  1.050974e+20  Went for Xmas lunch with friends... previous c...   \n",
       "\n",
       "     sentiment_label  \n",
       "0                  1  \n",
       "1                  1  \n",
       "2                  1  \n",
       "3                  1  \n",
       "4                  1  \n",
       "..               ...  \n",
       "941                1  \n",
       "942                1  \n",
       "943                1  \n",
       "944                1  \n",
       "945                0  \n",
       "\n",
       "[946 rows x 3 columns]"
      ]
     },
     "execution_count": 9,
     "metadata": {},
     "output_type": "execute_result"
    }
   ],
   "source": [
    "import pandas as pd\n",
    "\n",
    "splits = {'train': 'data/google-sentiment-au-train.jsonl', 'validation': 'data/google-sentiment-au-valid.jsonl'}\n",
    "df_google_sentiment_au = pd.read_json(\"hf://datasets/mindhunter23/BESSTIE-google-sentiment-au/\" + splits[\"train\"], lines=True)\n",
    "df_google_sentiment_au_val = pd.read_json(\"hf://datasets/mindhunter23/BESSTIE-google-sentiment-au/\" + splits[\"validation\"], lines=True)\n",
    "df_google_sentiment_au"
   ]
  },
  {
   "cell_type": "code",
   "execution_count": 10,
   "metadata": {},
   "outputs": [
    {
     "name": "stdout",
     "output_type": "stream",
     "text": [
      "                 Count  Percentage\n",
      "sentiment_label                   \n",
      "1                  695       73.47\n",
      "0                  251       26.53\n"
     ]
    }
   ],
   "source": [
    "class_distribution(df_google_sentiment_au)"
   ]
  },
  {
   "cell_type": "markdown",
   "metadata": {},
   "source": [
    "### BESSTIE-reddit-sentiment-in"
   ]
  },
  {
   "cell_type": "code",
   "execution_count": 11,
   "metadata": {},
   "outputs": [
    {
     "data": {
      "text/html": [
       "<div>\n",
       "<style scoped>\n",
       "    .dataframe tbody tr th:only-of-type {\n",
       "        vertical-align: middle;\n",
       "    }\n",
       "\n",
       "    .dataframe tbody tr th {\n",
       "        vertical-align: top;\n",
       "    }\n",
       "\n",
       "    .dataframe thead th {\n",
       "        text-align: right;\n",
       "    }\n",
       "</style>\n",
       "<table border=\"1\" class=\"dataframe\">\n",
       "  <thead>\n",
       "    <tr style=\"text-align: right;\">\n",
       "      <th></th>\n",
       "      <th>id</th>\n",
       "      <th>text</th>\n",
       "      <th>sentiment_label</th>\n",
       "    </tr>\n",
       "  </thead>\n",
       "  <tbody>\n",
       "    <tr>\n",
       "      <th>0</th>\n",
       "      <td>1d2o00l</td>\n",
       "      <td>Zepto has a mandate that the delivery boy need...</td>\n",
       "      <td>1</td>\n",
       "    </tr>\n",
       "    <tr>\n",
       "      <th>1</th>\n",
       "      <td>1d5fcvf</td>\n",
       "      <td>Mujhe bhi thoda paisa do</td>\n",
       "      <td>0</td>\n",
       "    </tr>\n",
       "    <tr>\n",
       "      <th>2</th>\n",
       "      <td>1d04uk7</td>\n",
       "      <td>Nooo don't protest against secular freedom fig...</td>\n",
       "      <td>0</td>\n",
       "    </tr>\n",
       "    <tr>\n",
       "      <th>3</th>\n",
       "      <td>1d5dl6q</td>\n",
       "      <td>Har 3 mahine baad kisi bhi global celebrity ko...</td>\n",
       "      <td>0</td>\n",
       "    </tr>\n",
       "    <tr>\n",
       "      <th>4</th>\n",
       "      <td>1d66tng</td>\n",
       "      <td>Just because you don't find anything serious b...</td>\n",
       "      <td>0</td>\n",
       "    </tr>\n",
       "    <tr>\n",
       "      <th>...</th>\n",
       "      <td>...</td>\n",
       "      <td>...</td>\n",
       "      <td>...</td>\n",
       "    </tr>\n",
       "    <tr>\n",
       "      <th>1680</th>\n",
       "      <td>1d4p9vp</td>\n",
       "      <td>Rectal Cargo.</td>\n",
       "      <td>0</td>\n",
       "    </tr>\n",
       "    <tr>\n",
       "      <th>1681</th>\n",
       "      <td>1d3wg8h</td>\n",
       "      <td>I mean this is the equivalent of u go to US an...</td>\n",
       "      <td>0</td>\n",
       "    </tr>\n",
       "    <tr>\n",
       "      <th>1682</th>\n",
       "      <td>1czj077</td>\n",
       "      <td>what went wrong with the genes after Rajiv Gan...</td>\n",
       "      <td>0</td>\n",
       "    </tr>\n",
       "    <tr>\n",
       "      <th>1683</th>\n",
       "      <td>1d43657</td>\n",
       "      <td>The image says the data from 2016-2017. 8 year...</td>\n",
       "      <td>0</td>\n",
       "    </tr>\n",
       "    <tr>\n",
       "      <th>1684</th>\n",
       "      <td>1cxzgh6</td>\n",
       "      <td>What is this joke?\\n\\nThis guy killed two peop...</td>\n",
       "      <td>0</td>\n",
       "    </tr>\n",
       "  </tbody>\n",
       "</table>\n",
       "<p>1685 rows × 3 columns</p>\n",
       "</div>"
      ],
      "text/plain": [
       "           id                                               text  \\\n",
       "0     1d2o00l  Zepto has a mandate that the delivery boy need...   \n",
       "1     1d5fcvf                           Mujhe bhi thoda paisa do   \n",
       "2     1d04uk7  Nooo don't protest against secular freedom fig...   \n",
       "3     1d5dl6q  Har 3 mahine baad kisi bhi global celebrity ko...   \n",
       "4     1d66tng  Just because you don't find anything serious b...   \n",
       "...       ...                                                ...   \n",
       "1680  1d4p9vp                                      Rectal Cargo.   \n",
       "1681  1d3wg8h  I mean this is the equivalent of u go to US an...   \n",
       "1682  1czj077  what went wrong with the genes after Rajiv Gan...   \n",
       "1683  1d43657  The image says the data from 2016-2017. 8 year...   \n",
       "1684  1cxzgh6  What is this joke?\\n\\nThis guy killed two peop...   \n",
       "\n",
       "      sentiment_label  \n",
       "0                   1  \n",
       "1                   0  \n",
       "2                   0  \n",
       "3                   0  \n",
       "4                   0  \n",
       "...               ...  \n",
       "1680                0  \n",
       "1681                0  \n",
       "1682                0  \n",
       "1683                0  \n",
       "1684                0  \n",
       "\n",
       "[1685 rows x 3 columns]"
      ]
     },
     "execution_count": 11,
     "metadata": {},
     "output_type": "execute_result"
    }
   ],
   "source": [
    "import pandas as pd\n",
    "\n",
    "splits = {'train': 'reddit-sentiment-in-train.jsonl', 'validation': 'reddit-sentiment-in-valid.jsonl'}\n",
    "df_reddit_sentiment_in = pd.read_json(\"hf://datasets/mindhunter23/BESSTIE-reddit-sentiment-in/\" + splits[\"train\"], lines=True)\n",
    "df_reddit_sentiment_in_val = pd.read_json(\"hf://datasets/mindhunter23/BESSTIE-reddit-sentiment-in/\" + splits[\"validation\"], lines=True)\n",
    "df_reddit_sentiment_in"
   ]
  },
  {
   "cell_type": "code",
   "execution_count": 12,
   "metadata": {},
   "outputs": [
    {
     "name": "stdout",
     "output_type": "stream",
     "text": [
      "                 Count  Percentage\n",
      "sentiment_label                   \n",
      "0                 1256       74.54\n",
      "1                  429       25.46\n"
     ]
    }
   ],
   "source": [
    "class_distribution(df_reddit_sentiment_in)"
   ]
  },
  {
   "cell_type": "markdown",
   "metadata": {},
   "source": [
    "### BESSTIE-google-sentiment-in"
   ]
  },
  {
   "cell_type": "code",
   "execution_count": 13,
   "metadata": {},
   "outputs": [
    {
     "data": {
      "text/html": [
       "<div>\n",
       "<style scoped>\n",
       "    .dataframe tbody tr th:only-of-type {\n",
       "        vertical-align: middle;\n",
       "    }\n",
       "\n",
       "    .dataframe tbody tr th {\n",
       "        vertical-align: top;\n",
       "    }\n",
       "\n",
       "    .dataframe thead th {\n",
       "        text-align: right;\n",
       "    }\n",
       "</style>\n",
       "<table border=\"1\" class=\"dataframe\">\n",
       "  <thead>\n",
       "    <tr style=\"text-align: right;\">\n",
       "      <th></th>\n",
       "      <th>id</th>\n",
       "      <th>text</th>\n",
       "      <th>sentiment_label</th>\n",
       "    </tr>\n",
       "  </thead>\n",
       "  <tbody>\n",
       "    <tr>\n",
       "      <th>0</th>\n",
       "      <td>1.114268e+20</td>\n",
       "      <td>They have an amazing hospitality structure loc...</td>\n",
       "      <td>1</td>\n",
       "    </tr>\n",
       "    <tr>\n",
       "      <th>1</th>\n",
       "      <td>1.116605e+20</td>\n",
       "      <td>The attender attitude is not welcoming. Ordere...</td>\n",
       "      <td>0</td>\n",
       "    </tr>\n",
       "    <tr>\n",
       "      <th>2</th>\n",
       "      <td>1.134214e+20</td>\n",
       "      <td>The taste is good.. Decent staff.. But the atm...</td>\n",
       "      <td>0</td>\n",
       "    </tr>\n",
       "    <tr>\n",
       "      <th>3</th>\n",
       "      <td>1.055034e+20</td>\n",
       "      <td>Wahi purani jagah, wahi purani yaadein..... Ra...</td>\n",
       "      <td>1</td>\n",
       "    </tr>\n",
       "    <tr>\n",
       "      <th>4</th>\n",
       "      <td>1.092858e+20</td>\n",
       "      <td>An extremely over hyped biriyani, Definitely i...</td>\n",
       "      <td>1</td>\n",
       "    </tr>\n",
       "    <tr>\n",
       "      <th>...</th>\n",
       "      <td>...</td>\n",
       "      <td>...</td>\n",
       "      <td>...</td>\n",
       "    </tr>\n",
       "    <tr>\n",
       "      <th>1643</th>\n",
       "      <td>1.045586e+20</td>\n",
       "      <td>Location wise it's Good. Parking at road side ...</td>\n",
       "      <td>0</td>\n",
       "    </tr>\n",
       "    <tr>\n",
       "      <th>1644</th>\n",
       "      <td>1.051527e+20</td>\n",
       "      <td>The experience was good, the atmosphere also g...</td>\n",
       "      <td>1</td>\n",
       "    </tr>\n",
       "    <tr>\n",
       "      <th>1645</th>\n",
       "      <td>1.032750e+20</td>\n",
       "      <td>I tried the laxmi special sandwich double chee...</td>\n",
       "      <td>1</td>\n",
       "    </tr>\n",
       "    <tr>\n",
       "      <th>1646</th>\n",
       "      <td>1.152006e+20</td>\n",
       "      <td>I love o yes but recently they were done blund...</td>\n",
       "      <td>0</td>\n",
       "    </tr>\n",
       "    <tr>\n",
       "      <th>1647</th>\n",
       "      <td>1.071810e+20</td>\n",
       "      <td>Lovely place for spending time with your loved...</td>\n",
       "      <td>1</td>\n",
       "    </tr>\n",
       "  </tbody>\n",
       "</table>\n",
       "<p>1648 rows × 3 columns</p>\n",
       "</div>"
      ],
      "text/plain": [
       "                id                                               text  \\\n",
       "0     1.114268e+20  They have an amazing hospitality structure loc...   \n",
       "1     1.116605e+20  The attender attitude is not welcoming. Ordere...   \n",
       "2     1.134214e+20  The taste is good.. Decent staff.. But the atm...   \n",
       "3     1.055034e+20  Wahi purani jagah, wahi purani yaadein..... Ra...   \n",
       "4     1.092858e+20  An extremely over hyped biriyani, Definitely i...   \n",
       "...            ...                                                ...   \n",
       "1643  1.045586e+20  Location wise it's Good. Parking at road side ...   \n",
       "1644  1.051527e+20  The experience was good, the atmosphere also g...   \n",
       "1645  1.032750e+20  I tried the laxmi special sandwich double chee...   \n",
       "1646  1.152006e+20  I love o yes but recently they were done blund...   \n",
       "1647  1.071810e+20  Lovely place for spending time with your loved...   \n",
       "\n",
       "      sentiment_label  \n",
       "0                   1  \n",
       "1                   0  \n",
       "2                   0  \n",
       "3                   1  \n",
       "4                   1  \n",
       "...               ...  \n",
       "1643                0  \n",
       "1644                1  \n",
       "1645                1  \n",
       "1646                0  \n",
       "1647                1  \n",
       "\n",
       "[1648 rows x 3 columns]"
      ]
     },
     "execution_count": 13,
     "metadata": {},
     "output_type": "execute_result"
    }
   ],
   "source": [
    "import pandas as pd\n",
    "\n",
    "splits = {'train': 'google-sentiment-in-train.jsonl', 'validation': 'google-sentiment-in-valid.jsonl'}\n",
    "df_google_sentiment_in = pd.read_json(\"hf://datasets/mindhunter23/BESSTIE-google-sentiment-in/\" + splits[\"train\"], lines=True)\n",
    "df_google_sentiment_in_val = pd.read_json(\"hf://datasets/mindhunter23/BESSTIE-google-sentiment-in/\" + splits[\"validation\"], lines=True)\n",
    "df_google_sentiment_in"
   ]
  },
  {
   "cell_type": "code",
   "execution_count": 14,
   "metadata": {},
   "outputs": [
    {
     "name": "stdout",
     "output_type": "stream",
     "text": [
      "                 Count  Percentage\n",
      "sentiment_label                   \n",
      "1                 1232       74.76\n",
      "0                  416       25.24\n"
     ]
    }
   ],
   "source": [
    "class_distribution(df_google_sentiment_in)"
   ]
  },
  {
   "cell_type": "markdown",
   "metadata": {},
   "source": [
    "## EDA"
   ]
  },
  {
   "cell_type": "code",
   "execution_count": 5,
   "metadata": {},
   "outputs": [
    {
     "name": "stdout",
     "output_type": "stream",
     "text": [
      "        id                                               text  \\\n",
      "0  1cimjpr  So instead of making savings, they continued t...   \n",
      "1  1d35qlg  Needless story to have dragged into the electi...   \n",
      "2  1d3i3mt  Now, in an ideal world there would be insight ...   \n",
      "3  1d5a8wa  How did you not get mind controlled at birth t...   \n",
      "4  1d5l3e9  Talk lately of conscription, having a store of...   \n",
      "\n",
      "   sentiment_label                                         clean_text  \\\n",
      "0                0  instead make saving continue spend money not y...   \n",
      "1                0  needless story drag election party rumor sit m...   \n",
      "2                0  ideal world would insight mr james day think i...   \n",
      "3                0  not get mind control birth though one free thi...   \n",
      "4                0  talk lately conscription store food water drug...   \n",
      "\n",
      "                                      tokenized_text  \n",
      "0  ['instead', 'make', 'saving', 'continue', 'spe...  \n",
      "1  ['needless', 'story', 'drag', 'election', 'par...  \n",
      "2  ['ideal', 'world', 'would', 'insight', 'mr', '...  \n",
      "3  ['not', 'get', 'mind', 'control', 'birth', 'th...  \n",
      "4  ['talk', 'lately', 'conscription', 'store', 'f...  \n",
      "Total rows in combined dataset: 8866\n"
     ]
    }
   ],
   "source": [
    "combined_sentiment_df = pd.read_csv(\"data_sentiment_preprocessed.csv\")\n",
    "combined_sentiment_df_val = pd.read_csv(\"data_sentiment_preprocessed_val.csv\")\n",
    "\n",
    "# Display the combined DataFrame\n",
    "print(combined_sentiment_df.head())\n",
    "print(f\"Total rows in combined dataset: {len(combined_sentiment_df)}\")"
   ]
  },
  {
   "cell_type": "code",
   "execution_count": 6,
   "metadata": {},
   "outputs": [
    {
     "name": "stdout",
     "output_type": "stream",
     "text": [
      "                 Count  Percentage\n",
      "sentiment_label                   \n",
      "0                 4473       50.45\n",
      "1                 4393       49.55\n"
     ]
    }
   ],
   "source": [
    "class_distribution(combined_sentiment_df)"
   ]
  },
  {
   "cell_type": "markdown",
   "metadata": {},
   "source": [
    "#### Number of characters per review"
   ]
  },
  {
   "cell_type": "code",
   "execution_count": 7,
   "metadata": {},
   "outputs": [
    {
     "data": {
      "text/plain": [
       "<Axes: xlabel='Char Count', ylabel='Sample Count'>"
      ]
     },
     "execution_count": 7,
     "metadata": {},
     "output_type": "execute_result"
    },
    {
     "data": {
      "image/png": "[encoded data removed]",
      "text/plain": [
       "<Figure size 640x480 with 1 Axes>"
      ]
     },
     "metadata": {},
     "output_type": "display_data"
    }
   ],
   "source": [
    "plt.xlabel('Char Count')\n",
    "plt.ylabel('Sample Count')\n",
    "combined_sentiment_df['text'].str.len().hist()"
   ]
  },
  {
   "cell_type": "code",
   "execution_count": 8,
   "metadata": {},
   "outputs": [
    {
     "data": {
      "text/plain": [
       "Text(0.5, 0, 'Char Count')"
      ]
     },
     "execution_count": 8,
     "metadata": {},
     "output_type": "execute_result"
    },
    {
     "data": {
      "image/png": "[encoded data removed]",
      "text/plain": [
       "<Figure size 1200x800 with 2 Axes>"
      ]
     },
     "metadata": {},
     "output_type": "display_data"
    }
   ],
   "source": [
    "fig,(ax1,ax2)=plt.subplots(1,2,figsize=(12,8))\n",
    "ax1.hist(combined_sentiment_df[combined_sentiment_df['sentiment_label']==1]['text'].str.len())\n",
    "ax1.set_title( 'Positive Reviews')\n",
    "ax1.set_xlabel('Char Count')\n",
    "ax2.hist(combined_sentiment_df[combined_sentiment_df['sentiment_label']==0]['text'].str.len())\n",
    "ax2.set_title( 'Negative Reviews')\n",
    "ax2.set_xlabel('Char Count')"
   ]
  },
  {
   "cell_type": "markdown",
   "metadata": {},
   "source": [
    "#### Most common words"
   ]
  },
  {
   "cell_type": "code",
   "execution_count": null,
   "metadata": {},
   "outputs": [],
   "source": [
    "# POSITIVE SENTIMENT\n",
    "text = \" \".join(i for i in combined_sentiment_df[combined_sentiment_df['sentiment_label']==1]['text'])\n",
    "wordcloud = WordCloud( background_color=\"white\").generate(text)\n",
    "\n",
    "plt.figure( figsize=(15,10))\n",
    "plt.imshow(wordcloud, interpolation='bilinear')\n",
    "plt.axis(\"off\")\n",
    "plt.title('wordcloud for positive review')\n",
    "plt.show()\n"
   ]
  },
  {
   "cell_type": "code",
   "execution_count": null,
   "metadata": {},
   "outputs": [],
   "source": [
    "# NEGATIVE SENTIMENT\n",
    "text = \" \".join(i for i in combined_sentiment_df[combined_sentiment_df['sentiment_label']==0]['text'])\n",
    "wordcloud = WordCloud( background_color=\"white\").generate(text)\n",
    "\n",
    "plt.figure( figsize=(15,10))\n",
    "plt.imshow(wordcloud, interpolation='bilinear')\n",
    "plt.axis(\"off\")\n",
    "plt.title('wordcloud for negative review')\n",
    "plt.show()\n"
   ]
  },
  {
   "cell_type": "markdown",
   "metadata": {},
   "source": [
    "## Preprocessing"
   ]
  },
  {
   "cell_type": "markdown",
   "metadata": {},
   "source": [
    "### Dataset transformation"
   ]
  },
  {
   "cell_type": "markdown",
   "metadata": {},
   "source": [
    "#### Training dataset"
   ]
  },
  {
   "cell_type": "code",
   "execution_count": null,
   "metadata": {},
   "outputs": [],
   "source": [
    "## Text processing\n",
    "combined_sentiment_df['clean_text']= combined_sentiment_df['text'].apply(lambda x: text_preprocess(x, remove_stopwords=True, remove_digits=True, stemmer=Stemmer.WordNet))\n",
    "combined_sentiment_df"
   ]
  },
  {
   "cell_type": "code",
   "execution_count": null,
   "metadata": {},
   "outputs": [],
   "source": [
    "#tokenization\n",
    "combined_sentiment_df['tokenized_text'] = combined_sentiment_df['clean_text'].apply(lambda x: word_tokenize(x))\n",
    "combined_sentiment_df"
   ]
  },
  {
   "cell_type": "code",
   "execution_count": null,
   "metadata": {},
   "outputs": [],
   "source": [
    "combined_sentiment_df.to_csv('data_sentiment_preprocessed.csv', index=False)"
   ]
  },
  {
   "cell_type": "markdown",
   "metadata": {},
   "source": [
    "#### validation dataset"
   ]
  },
  {
   "cell_type": "code",
   "execution_count": null,
   "metadata": {},
   "outputs": [],
   "source": [
    "## Text processing\n",
    "combined_sentiment_df_val['clean_text']= combined_sentiment_df_val['text'].apply(lambda x: text_preprocess(x, remove_stopwords=True, remove_digits=True, stemmer=Stemmer.WordNet))\n",
    "combined_sentiment_df_val"
   ]
  },
  {
   "cell_type": "code",
   "execution_count": null,
   "metadata": {},
   "outputs": [],
   "source": [
    "#tokenization\n",
    "combined_sentiment_df_val['tokenized_text'] = combined_sentiment_df_val['clean_text'].apply(lambda x: word_tokenize(x))\n",
    "combined_sentiment_df_val"
   ]
  },
  {
   "cell_type": "code",
   "execution_count": null,
   "metadata": {},
   "outputs": [],
   "source": [
    "combined_sentiment_df_val.to_csv('data_sentiment_preprocessed_val.csv', index=False)"
   ]
  },
  {
   "cell_type": "markdown",
   "metadata": {},
   "source": [
    "## Feature extraction"
   ]
  },
  {
   "cell_type": "code",
   "execution_count": 57,
   "metadata": {},
   "outputs": [],
   "source": [
    "combined_sentiment_df = pd.read_csv(\"data_sentiment_preprocessed.csv\")\n",
    "combined_sentiment_df_val = pd.read_csv(\"data_sentiment_preprocessed_val.csv\")\n",
    "\n",
    "from our_feature_extraction import basic_bag, tf_idf\n",
    "# Split the data\n",
    "X_train = combined_sentiment_df.tokenized_text\n",
    "y_train = combined_sentiment_df.sentiment_label\n",
    "X_val = combined_sentiment_df_val.tokenized_text\n",
    "y_val = combined_sentiment_df_val.sentiment_label\n"
   ]
  },
  {
   "cell_type": "markdown",
   "metadata": {},
   "source": [
    "### Count BoW "
   ]
  },
  {
   "cell_type": "code",
   "execution_count": 58,
   "metadata": {},
   "outputs": [
    {
     "name": "stdout",
     "output_type": "stream",
     "text": [
      "Shape (X_train_vec) before reduction:  (8866, 13942)\n",
      "Shape (X_train_vec) after reuction:  (8866, 6231)\n",
      "Shape (X_val_vec):  (1212, 6231)\n"
     ]
    }
   ],
   "source": [
    "word_counts, vocab, selected_words, vectorizer, X_train_vec, X_val_vec = basic_bag(X_train, X_val, min_refs=3, debug=True)"
   ]
  },
  {
   "cell_type": "code",
   "execution_count": 59,
   "metadata": {},
   "outputs": [
    {
     "name": "stdout",
     "output_type": "stream",
     "text": [
      "Most common words:\n",
      "not: 4523\n",
      "good: 3415\n",
      "food: 2608\n",
      "get: 1843\n",
      "go: 1610\n",
      "place: 1569\n",
      "like: 1549\n",
      "would: 1527\n",
      "time: 1374\n",
      "one: 1363\n"
     ]
    }
   ],
   "source": [
    "# 10 most common words\n",
    "word_counts = np.asarray(X_train_vec.sum(axis=0)).flatten()\n",
    "vocab = np.array(vectorizer.get_feature_names_out())\n",
    "\n",
    "top_indices = np.argsort(word_counts)[::-1]\n",
    "top_words = vocab[top_indices[:10]]\n",
    "top_counts = word_counts[top_indices[:10]]\n",
    "\n",
    "print('Most common words:')\n",
    "for word, count in zip(top_words, top_counts):\n",
    "    print(f\"{word}: {count}\")"
   ]
  },
  {
   "cell_type": "code",
   "execution_count": 60,
   "metadata": {},
   "outputs": [
    {
     "data": {
      "text/plain": [
       "array([0, 1, 2])"
      ]
     },
     "execution_count": 60,
     "metadata": {},
     "output_type": "execute_result"
    }
   ],
   "source": [
    "np.unique(X_train_vec[2].toarray())"
   ]
  },
  {
   "cell_type": "markdown",
   "metadata": {},
   "source": [
    "### 1-hot vectors BoW"
   ]
  },
  {
   "cell_type": "code",
   "execution_count": 61,
   "metadata": {},
   "outputs": [
    {
     "name": "stdout",
     "output_type": "stream",
     "text": [
      "Shape (X_train_hot):  (8866, 13942)\n",
      "Shape (X_val_hot):  (1212, 13942)\n"
     ]
    }
   ],
   "source": [
    "word_counts, vocab, selected_words, vectorizer, X_train_hot, X_val_hot = basic_bag(X_train, X_val, ohe=True)\n",
    "print('Shape (X_train_hot): ', X_train_hot.shape)\n",
    "# Transforming X_val data\n",
    "print('Shape (X_val_hot): ', X_val_hot.shape)"
   ]
  },
  {
   "cell_type": "code",
   "execution_count": 62,
   "metadata": {},
   "outputs": [
    {
     "name": "stdout",
     "output_type": "stream",
     "text": [
      "Unique values: [0 1]\n"
     ]
    }
   ],
   "source": [
    "# Checking if dataset is binary\n",
    "unique = np.unique(X_train_hot.toarray())\n",
    "print('Unique values:', unique)"
   ]
  },
  {
   "cell_type": "markdown",
   "metadata": {},
   "source": [
    "### TF-IDF"
   ]
  },
  {
   "cell_type": "code",
   "execution_count": 63,
   "metadata": {},
   "outputs": [
    {
     "name": "stdout",
     "output_type": "stream",
     "text": [
      "Shape (X_train_vec) before reduction:  (8866, 13942)\n",
      "Shape (X_val_vec):  (1212, 13942)\n"
     ]
    }
   ],
   "source": [
    "word_counts, vocab, selected_words, vectorizer, X_train_vec_tf, X_val_vec_tf = tf_idf(X_train, X_val, debug=True)"
   ]
  },
  {
   "cell_type": "code",
   "execution_count": 64,
   "metadata": {},
   "outputs": [
    {
     "data": {
      "text/plain": [
       "array([0.13627029, 0.30674865, 0.54615593, ..., 0.18706859, 0.0743741 ,\n",
       "       0.26505371])"
      ]
     },
     "execution_count": 64,
     "metadata": {},
     "output_type": "execute_result"
    }
   ],
   "source": [
    "word_counts"
   ]
  },
  {
   "cell_type": "markdown",
   "metadata": {},
   "source": [
    "### N-grams"
   ]
  },
  {
   "cell_type": "markdown",
   "metadata": {},
   "source": [
    "#### Bigrams"
   ]
  },
  {
   "cell_type": "code",
   "execution_count": 65,
   "metadata": {},
   "outputs": [
    {
     "name": "stdout",
     "output_type": "stream",
     "text": [
      "Shape (X_train_vec) before reduction:  (8866, 161809)\n",
      "Shape (X_train_vec) after reuction:  (8866, 9566)\n",
      "Shape (X_val_vec):  (1212, 9566)\n"
     ]
    }
   ],
   "source": [
    "word_counts, vocab, selected_words, vectorizer, X_train_vec_bi, X_val_vec_bi = basic_bag(X_train, X_val, ngram_range=(2,2), min_refs=3, debug=True)"
   ]
  },
  {
   "cell_type": "code",
   "execution_count": 66,
   "metadata": {},
   "outputs": [
    {
     "name": "stdout",
     "output_type": "stream",
     "text": [
      "10 most common bigrams:\n",
      "ability work: 0\n",
      "able eat: 0\n",
      "able find: 0\n",
      "able get: 0\n",
      "able order: 0\n",
      "absence also: 0\n",
      "absence clean: 0\n",
      "absence could: 0\n",
      "absence fine: 0\n",
      "absence food: 0\n"
     ]
    }
   ],
   "source": [
    "bigram_vocab = vectorizer.get_feature_names_out()\n",
    "bigram_counts = np.asarray(X_train_vec_bi.sum(axis=0)).flatten()\n",
    "\n",
    "bigram_freq = list(zip(bigram_vocab, bigram_counts))\n",
    "\n",
    "# Soritng\n",
    "sorted_bigram_freq = sorted(bigram_freq, key=lambda x: x[1], reverse=True)\n",
    "\n",
    "print(\"10 most common bigrams:\")\n",
    "for bigram, count in sorted_bigram_freq[:10]:\n",
    "    print(f\"{bigram}: {count}\")"
   ]
  },
  {
   "cell_type": "markdown",
   "metadata": {},
   "source": [
    "### Embeddings"
   ]
  },
  {
   "cell_type": "code",
   "execution_count": 67,
   "metadata": {},
   "outputs": [
    {
     "data": {
      "text/plain": [
       "[('think', 0.9858008027076721),\n",
       " ('know', 0.9772163033485413),\n",
       " ('but', 0.9746254682540894),\n",
       " ('either', 0.9740143418312073),\n",
       " ('if', 0.9736496806144714),\n",
       " ('they', 0.9727024435997009),\n",
       " ('that', 0.9722444415092468),\n",
       " ('when', 0.9720438122749329),\n",
       " ('would', 0.9706029891967773),\n",
       " ('really', 0.9704276323318481)]"
      ]
     },
     "execution_count": 67,
     "metadata": {},
     "output_type": "execute_result"
    }
   ],
   "source": [
    "import gensim.downloader as api\n",
    "\n",
    "api.info() # List models or just go to the git as it is easier to read there: https://github.com/piskvorky/gensim-data?tab=readme-ov-file\n",
    "model = api.load(\"glove-twitter-25\") \n",
    "model.most_similar(\"n't\")"
   ]
  },
  {
   "cell_type": "code",
   "execution_count": 68,
   "metadata": {},
   "outputs": [
    {
     "data": {
      "text/plain": [
       "[('vagina', 0.8970811367034912),\n",
       " ('finger', 0.8911336064338684),\n",
       " ('tongue', 0.8618690371513367),\n",
       " ('eye', 0.8475320935249329),\n",
       " ('anus', 0.8450093865394592),\n",
       " ('eyeliner', 0.8437599539756775),\n",
       " ('teeth', 0.8422453999519348),\n",
       " ('tampon', 0.8392389416694641),\n",
       " ('nipples', 0.8369837999343872),\n",
       " ('arm', 0.8346453905105591)]"
      ]
     },
     "execution_count": 68,
     "metadata": {},
     "output_type": "execute_result"
    }
   ],
   "source": [
    "model.most_similar('penis')\n",
    "\n",
    "# Need to check, but I think if we use pretrained embeddings we need to match the preprocessing step to how the embeddings was done"
   ]
  },
  {
   "cell_type": "markdown",
   "metadata": {},
   "source": [
    "## Modeling"
   ]
  },
  {
   "cell_type": "markdown",
   "metadata": {},
   "source": [
    "### Naive Bayes"
   ]
  },
  {
   "cell_type": "markdown",
   "metadata": {},
   "source": [
    "#### basic bag of words"
   ]
  },
  {
   "cell_type": "code",
   "execution_count": null,
   "metadata": {},
   "outputs": [
    {
     "name": "stdout",
     "output_type": "stream",
     "text": [
      "Accuracy: 0.8086\n",
      "\n",
      "Classification Report:\n",
      "              precision    recall  f1-score   support\n",
      "\n",
      "           0       0.83      0.77      0.80       611\n",
      "           1       0.79      0.84      0.81       601\n",
      "\n",
      "    accuracy                           0.81      1212\n",
      "   macro avg       0.81      0.81      0.81      1212\n",
      "weighted avg       0.81      0.81      0.81      1212\n",
      "\n",
      "\n",
      "Confusion Matrix:\n",
      "[[473 138]\n",
      " [ 94 507]]\n"
     ]
    }
   ],
   "source": [
    "nb(X_train_vec, X_val_vec, y_train, y_val)"
   ]
  },
  {
   "cell_type": "markdown",
   "metadata": {},
   "source": [
    "#### 1 hot vector bag of words"
   ]
  },
  {
   "cell_type": "code",
   "execution_count": 24,
   "metadata": {},
   "outputs": [
    {
     "name": "stdout",
     "output_type": "stream",
     "text": [
      "Accuracy: 0.8086\n",
      "\n",
      "Classification Report:\n",
      "              precision    recall  f1-score   support\n",
      "\n",
      "           0       0.84      0.77      0.80       611\n",
      "           1       0.78      0.85      0.81       601\n",
      "\n",
      "    accuracy                           0.81      1212\n",
      "   macro avg       0.81      0.81      0.81      1212\n",
      "weighted avg       0.81      0.81      0.81      1212\n",
      "\n",
      "\n",
      "Confusion Matrix:\n",
      "[[471 140]\n",
      " [ 92 509]]\n"
     ]
    }
   ],
   "source": [
    "nb(X_train_hot, X_val_hot, y_train, y_val)"
   ]
  },
  {
   "cell_type": "markdown",
   "metadata": {},
   "source": [
    "#### TF-IDF"
   ]
  },
  {
   "cell_type": "code",
   "execution_count": 25,
   "metadata": {},
   "outputs": [
    {
     "name": "stdout",
     "output_type": "stream",
     "text": [
      "Accuracy: 0.8061\n",
      "\n",
      "Classification Report:\n",
      "              precision    recall  f1-score   support\n",
      "\n",
      "           0       0.84      0.76      0.80       611\n",
      "           1       0.78      0.86      0.81       601\n",
      "\n",
      "    accuracy                           0.81      1212\n",
      "   macro avg       0.81      0.81      0.81      1212\n",
      "weighted avg       0.81      0.81      0.81      1212\n",
      "\n",
      "\n",
      "Confusion Matrix:\n",
      "[[462 149]\n",
      " [ 86 515]]\n"
     ]
    }
   ],
   "source": [
    "nb(X_train_vec_tf, X_val_vec_tf, y_train, y_val)"
   ]
  },
  {
   "cell_type": "markdown",
   "metadata": {},
   "source": [
    "#### Ngrams (Bi gram)"
   ]
  },
  {
   "cell_type": "code",
   "execution_count": 36,
   "metadata": {},
   "outputs": [
    {
     "name": "stdout",
     "output_type": "stream",
     "text": [
      "Accuracy: 0.5041\n",
      "\n",
      "Classification Report:\n",
      "              precision    recall  f1-score   support\n",
      "\n",
      "           0       0.50      1.00      0.67       611\n",
      "           1       0.00      0.00      0.00       601\n",
      "\n",
      "    accuracy                           0.50      1212\n",
      "   macro avg       0.25      0.50      0.34      1212\n",
      "weighted avg       0.25      0.50      0.34      1212\n",
      "\n",
      "\n",
      "Confusion Matrix:\n",
      "[[611   0]\n",
      " [601   0]]\n"
     ]
    },
    {
     "name": "stderr",
     "output_type": "stream",
     "text": [
      "/Users/santiagoromero/Documents/nlp/nlp-env/lib/python3.9/site-packages/sklearn/metrics/_classification.py:1565: UndefinedMetricWarning: Precision is ill-defined and being set to 0.0 in labels with no predicted samples. Use `zero_division` parameter to control this behavior.\n",
      "  _warn_prf(average, modifier, f\"{metric.capitalize()} is\", len(result))\n",
      "/Users/santiagoromero/Documents/nlp/nlp-env/lib/python3.9/site-packages/sklearn/metrics/_classification.py:1565: UndefinedMetricWarning: Precision is ill-defined and being set to 0.0 in labels with no predicted samples. Use `zero_division` parameter to control this behavior.\n",
      "  _warn_prf(average, modifier, f\"{metric.capitalize()} is\", len(result))\n",
      "/Users/santiagoromero/Documents/nlp/nlp-env/lib/python3.9/site-packages/sklearn/metrics/_classification.py:1565: UndefinedMetricWarning: Precision is ill-defined and being set to 0.0 in labels with no predicted samples. Use `zero_division` parameter to control this behavior.\n",
      "  _warn_prf(average, modifier, f\"{metric.capitalize()} is\", len(result))\n"
     ]
    }
   ],
   "source": [
    "nb(X_train_vec_bi, X_val_vec_bi, y_train, y_val)\n"
   ]
  },
  {
   "cell_type": "markdown",
   "metadata": {},
   "source": [
    "### Support Vector Machine"
   ]
  },
  {
   "cell_type": "markdown",
   "metadata": {},
   "source": [
    "#### basic bag of words"
   ]
  },
  {
   "cell_type": "code",
   "execution_count": 69,
   "metadata": {},
   "outputs": [
    {
     "name": "stdout",
     "output_type": "stream",
     "text": [
      "Accuracy: 0.8160\n",
      "\n",
      "Classification Report:\n",
      "              precision    recall  f1-score   support\n",
      "\n",
      "           0       0.83      0.80      0.81       611\n",
      "           1       0.80      0.83      0.82       601\n",
      "\n",
      "    accuracy                           0.82      1212\n",
      "   macro avg       0.82      0.82      0.82      1212\n",
      "weighted avg       0.82      0.82      0.82      1212\n",
      "\n",
      "\n",
      "Confusion Matrix:\n",
      "[[489 122]\n",
      " [101 500]]\n"
     ]
    }
   ],
   "source": [
    "support_vector_machine(X_train_vec, X_val_vec, y_train, y_val)"
   ]
  },
  {
   "cell_type": "markdown",
   "metadata": {},
   "source": [
    "#### 1 hot vector bag of words"
   ]
  },
  {
   "cell_type": "code",
   "execution_count": 70,
   "metadata": {
    "vscode": {
     "languageId": "markdown"
    }
   },
   "outputs": [
    {
     "name": "stdout",
     "output_type": "stream",
     "text": [
      "Accuracy: 0.8193\n",
      "\n",
      "Classification Report:\n",
      "              precision    recall  f1-score   support\n",
      "\n",
      "           0       0.83      0.81      0.82       611\n",
      "           1       0.81      0.83      0.82       601\n",
      "\n",
      "    accuracy                           0.82      1212\n",
      "   macro avg       0.82      0.82      0.82      1212\n",
      "weighted avg       0.82      0.82      0.82      1212\n",
      "\n",
      "\n",
      "Confusion Matrix:\n",
      "[[494 117]\n",
      " [102 499]]\n"
     ]
    }
   ],
   "source": [
    "support_vector_machine(X_train_hot, X_val_hot, y_train, y_val)"
   ]
  },
  {
   "cell_type": "markdown",
   "metadata": {},
   "source": [
    "#### TF-IDF"
   ]
  },
  {
   "cell_type": "code",
   "execution_count": 71,
   "metadata": {
    "vscode": {
     "languageId": "markdown"
    }
   },
   "outputs": [
    {
     "name": "stdout",
     "output_type": "stream",
     "text": [
      "Accuracy: 0.8597\n",
      "\n",
      "Classification Report:\n",
      "              precision    recall  f1-score   support\n",
      "\n",
      "           0       0.85      0.88      0.86       611\n",
      "           1       0.88      0.84      0.86       601\n",
      "\n",
      "    accuracy                           0.86      1212\n",
      "   macro avg       0.86      0.86      0.86      1212\n",
      "weighted avg       0.86      0.86      0.86      1212\n",
      "\n",
      "\n",
      "Confusion Matrix:\n",
      "[[540  71]\n",
      " [ 99 502]]\n"
     ]
    }
   ],
   "source": [
    "support_vector_machine(X_train_vec_tf, X_val_vec_tf, y_train, y_val)"
   ]
  },
  {
   "cell_type": "markdown",
   "metadata": {},
   "source": [
    "#### Ngrams (Bi gram)"
   ]
  },
  {
   "cell_type": "code",
   "execution_count": 72,
   "metadata": {
    "vscode": {
     "languageId": "markdown"
    }
   },
   "outputs": [
    {
     "name": "stdout",
     "output_type": "stream",
     "text": [
      "Accuracy: 0.5041\n",
      "\n",
      "Classification Report:\n",
      "              precision    recall  f1-score   support\n",
      "\n",
      "           0       0.50      1.00      0.67       611\n",
      "           1       0.00      0.00      0.00       601\n",
      "\n",
      "    accuracy                           0.50      1212\n",
      "   macro avg       0.25      0.50      0.34      1212\n",
      "weighted avg       0.25      0.50      0.34      1212\n",
      "\n",
      "\n",
      "Confusion Matrix:\n",
      "[[611   0]\n",
      " [601   0]]\n"
     ]
    },
    {
     "name": "stderr",
     "output_type": "stream",
     "text": [
      "/Users/santiagoromero/Documents/nlp/nlp-env/lib/python3.9/site-packages/sklearn/metrics/_classification.py:1565: UndefinedMetricWarning: Precision is ill-defined and being set to 0.0 in labels with no predicted samples. Use `zero_division` parameter to control this behavior.\n",
      "  _warn_prf(average, modifier, f\"{metric.capitalize()} is\", len(result))\n",
      "/Users/santiagoromero/Documents/nlp/nlp-env/lib/python3.9/site-packages/sklearn/metrics/_classification.py:1565: UndefinedMetricWarning: Precision is ill-defined and being set to 0.0 in labels with no predicted samples. Use `zero_division` parameter to control this behavior.\n",
      "  _warn_prf(average, modifier, f\"{metric.capitalize()} is\", len(result))\n",
      "/Users/santiagoromero/Documents/nlp/nlp-env/lib/python3.9/site-packages/sklearn/metrics/_classification.py:1565: UndefinedMetricWarning: Precision is ill-defined and being set to 0.0 in labels with no predicted samples. Use `zero_division` parameter to control this behavior.\n",
      "  _warn_prf(average, modifier, f\"{metric.capitalize()} is\", len(result))\n"
     ]
    }
   ],
   "source": [
    "support_vector_machine(X_train_vec_bi, X_val_vec_bi, y_train, y_val)\n"
   ]
  }
 ],
 "metadata": {
  "kernelspec": {
   "display_name": "nlp-env",
   "language": "python",
   "name": "python3"
  },
  "language_info": {
   "codemirror_mode": {
    "name": "ipython",
    "version": 3
   },
   "file_extension": ".py",
   "mimetype": "text/x-python",
   "name": "python",
   "nbconvert_exporter": "python",
   "pygments_lexer": "ipython3",
   "version": "3.9.6"
  }
 },
 "nbformat": 4,
 "nbformat_minor": 4
}
